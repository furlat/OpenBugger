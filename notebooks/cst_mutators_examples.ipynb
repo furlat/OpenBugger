{
  "cells": [
    {
      "cell_type": "code",
      "execution_count": 3,
      "metadata": {
        "id": "NREXbcvgnskY"
      },
      "outputs": [],
      "source": [
        "from libcst import parse_module, Module, Expr, Pass, Comment, CSTTransformer, Comparison, CSTNode, ComparisonTarget\n",
        "from libcst import matchers\n",
        "from typing import List, Dict, Union, Tuple, Type\n",
        "import re\n",
        "from libcst import Equal, GreaterThanEqual\n",
        "from libcst import matchers as m"
      ]
    },
    {
      "cell_type": "markdown",
      "metadata": {
        "id": "O0BlZYO5zg08"
      },
      "source": [
        "## REFERENCES\n",
        "\n",
        "- [Nodes](https://libcst.readthedocs.io/en/latest/nodes.html#libcst-nodes)"
      ]
    },
    {
      "cell_type": "code",
      "execution_count": 4,
      "metadata": {
        "id": "u3SCFXCbytvU"
      },
      "outputs": [],
      "source": [
        "# Use difflib to show the changes to verify type annotations were added as expected.\n",
        "import difflib\n",
        "\n",
        "def printdiff(vanilla, tainted):\n",
        "    return (\n",
        "        \"\".join(\n",
        "            difflib.unified_diff(vanilla.splitlines(1), tainted.splitlines(1))\n",
        "        )\n",
        "    )"
      ]
    },
    {
      "cell_type": "code",
      "execution_count": 7,
      "metadata": {
        "id": "Fzx7ReM62sse"
      },
      "outputs": [],
      "source": [
        "import libcst as cst\n",
        "\n",
        "\n",
        "def gen_transfomers(op1, op2):\n",
        "    class IsComparisonProvider(cst.BatchableMetadataProvider[Dict]):\n",
        "    \n",
        "        MATCHER = m.call_if_inside(m.ComparisonTarget(operator=[getattr(m, op1.__name__)()]))\n",
        "\n",
        "        def visit_ComparisonTarget(self, node: cst.ComparisonTarget) -> None:\n",
        "            if not self.MATCHER(): return\n",
        "            # Mark the node as an equal comparison node\n",
        "            self.set_metadata(node, dict(comparison=node, \n",
        "                                    original=node.operator.__class__))\n",
        "    \n",
        "    class ApplyTransformer(cst.CSTTransformer):\n",
        "        METADATA_DEPENDENCIES = (IsComparisonProvider, )\n",
        "    \n",
        "        def leave_ComparisonTarget(self, original_node:cst.ComparisonTarget, updated_node: cst.ComparisonTarget) -> None:\n",
        "            meta = self.get_metadata(IsComparisonProvider, original_node)\n",
        "            if meta:\n",
        "                updated_node = meta['comparison'].with_changes(operator=op2()) # OP2\n",
        "            return updated_node\n",
        "\n",
        "        def __repr__(self):\n",
        "            return super().__repr__(self) + ':' + op1.__name__ +':' + op2.__name__\n",
        "    \n",
        "    class ReverseTransformer(cst.CSTTransformer):\n",
        "        METADATA_DEPENDENCIES = (IsComparisonProvider, )\n",
        "\n",
        "        def leave_ComparisonTarget(self, original_node:cst.ComparisonTarget, updated_node: cst.ComparisonTarget) -> None:\n",
        "            meta = self.get_metadata(IsComparisonProvider, original_node)\n",
        "            if meta:\n",
        "                updated_node = meta['comparison'].with_changes(operator=meta['original']())\n",
        "            return updated_node\n",
        "        \n",
        "        def __repr__(self):\n",
        "            return super().__repr__(self) + ':' + op1.__name__ +':' + op2.__name__\n",
        "\n",
        "    return ApplyTransformer, ReverseTransformer    "
      ]
    },
    {
      "cell_type": "code",
      "execution_count": 8,
      "metadata": {},
      "outputs": [
        {
          "name": "stdout",
          "output_type": "stream",
          "text": [
            "x > 1 + 2 > 3\n",
            "x == 1 + 2 == 3\n"
          ]
        }
      ],
      "source": [
        "## Test\n",
        "from libcst import (Equal, GreaterThanEqual, LessThan, GreaterThan, \n",
        "                    LessThanEqual, NotEqual, NotIn, In, Is, IsNot, Not, And, Or, Match)\n",
        "import collections\n",
        "\n",
        "str2op = dict([\n",
        "    ('==', Equal),\n",
        "    ('>=', GreaterThanEqual),\n",
        "    ('>', GreaterThan),\n",
        "    ('<', LessThan),\n",
        "    ('=<', LessThanEqual),\n",
        "    ('!=', NotEqual),\n",
        "    ('not in', NotIn),\n",
        "    ('in', In),\n",
        "    ('is', Is),\n",
        "    ('is not', IsNot),\n",
        "    ('not', Not),\n",
        "    ('and', And),\n",
        "    ('or', Or),\n",
        "    ('or', Or),\n",
        "    # ('match', Match),\n",
        "])\n",
        "\n",
        "op2str = {v:k for k,v in str2op.items()}\n",
        "\n",
        "# Get the script as a string\n",
        "script = \"x == 1 + 2 == 3\"\n",
        "\n",
        "# Parse the script into a CST\n",
        "module = cst.parse_module(script)\n",
        "\n",
        "# Use the gen_transfomers function to generate the ApplyTransformer and ReverseTransformer classes\n",
        "ApplyTransformer, ReverseTransformer = gen_transfomers(str2op['=='], str2op['>'])\n",
        "\n",
        "wrapper = cst.MetadataWrapper(module)\n",
        "# Apply the ApplyTransformer to the CST\n",
        "tainted = wrapper.visit(ApplyTransformer())\n",
        "reverted = wrapper.visit(ReverseTransformer())\n",
        "\n",
        "print(tainted.code)\n",
        "print(reverted.code)"
      ]
    },
    {
      "cell_type": "code",
      "execution_count": 166,
      "metadata": {},
      "outputs": [
        {
          "data": {
            "text/plain": [
              "<itertools.chain at 0x7fbf38d033d0>"
            ]
          },
          "execution_count": 166,
          "metadata": {},
          "output_type": "execute_result"
        }
      ],
      "source": [
        "import itertools\n",
        "itertools.chain([1,2,3], [4,5,6])"
      ]
    },
    {
      "cell_type": "code",
      "execution_count": 167,
      "metadata": {},
      "outputs": [],
      "source": [
        "def composite_factory(mutators: List[Transform]):\n",
        "    apply_transforms = [m[0] for m in mutators]\n",
        "    reverse_transforms = [m[1] for m in mutators]\n",
        "\n",
        "    METADATA_PROVIDERS = list(itertools.chain(*itertools.chain(t.METADATA_DEPENDENCIES for t in apply_transforms)))\n",
        "    print(METADATA_PROVIDERS)\n",
        "    \n",
        "    class CompositeTaintOperatorProvider(cst.BatchableMetadataProvider[Dict]):\n",
        "    \n",
        "        def visit_Comparison(self, node: cst.Param) -> None:\n",
        "            for p in METADATA_PROVIDERS:\n",
        "                if not p.MATCHER(node): continue\n",
        "\n",
        "                meta = self.get_metadata(node)\n",
        "                if meta is None:\n",
        "                    p.visit_Comparison(node) # apply the matcher\n",
        "                    # Mark the node as an equal comparison node\n",
        "                    self.set_metadata(node, {'tainted': True})\n",
        "                elif meta.get('tainted') is None:\n",
        "                    p.visit_Comparison(node)\n",
        "                else:\n",
        "                    pass # tainted already\n",
        "                \n",
        "    class ApplyCompositeTransformer(cst.CSTTransformer):\n",
        "        METADATA_DEPENDENCIES = (CompositeTaintOperatorProvider,)\n",
        "\n",
        "        def leave_Comparison(self, vanilla:cst.Comparison, tainted: cst.Comparison) -> None:\n",
        "            for apply in apply_transforms:\n",
        "                vanilla = tainted = apply().leave_Comparison(vanilla, tainted) \n",
        "                \n",
        "            return tainted\n",
        "\n",
        "    class ReverseCompositeTransformer(cst.CSTTransformer):\n",
        "        METADATA_DEPENDENCIES = (CompositeTaintOperatorProvider,)\n",
        "\n",
        "        def leave_Comparison(self, vanilla:cst.Comparison, tainted: cst.Comparison) -> None:\n",
        "            for reverse in reverse_transforms:\n",
        "                vanilla = tainted = reverse().leave_Comparison(vanilla, tainted) \n",
        "                \n",
        "            return tainted\n",
        "\n",
        "    return ApplyCompositeTransformer, ReverseCompositeTransformer"
      ]
    },
    {
      "cell_type": "code",
      "execution_count": 168,
      "metadata": {
        "id": "hJhE4fuuKzea"
      },
      "outputs": [],
      "source": [
        "from libcst import (Equal, GreaterThanEqual, LessThan, GreaterThan, \n",
        "                    LessThanEqual, NotEqual, NotIn, In, Is, IsNot, Not, And, Or, Match)\n",
        "import collections\n",
        "\n",
        "str2op = dict([\n",
        "    ('==', Equal),\n",
        "    ('>=', GreaterThanEqual),\n",
        "    ('>', GreaterThan),\n",
        "    ('<', LessThan),\n",
        "    ('=<', LessThanEqual),\n",
        "    ('!=', NotEqual),\n",
        "    ('not in', NotIn),\n",
        "    ('in', In),\n",
        "    ('is', Is),\n",
        "    ('is not', IsNot),\n",
        "    ('not', Not),\n",
        "    ('and', And),\n",
        "    ('or', Or),\n",
        "    ('or', Or),\n",
        "    # ('match', Match),\n",
        "])\n",
        "\n",
        "op2str = {v:k for k,v in str2op.items()}\n",
        "\n",
        "Transform = collections.namedtuple('Transform', ['apply', 'reverse'])\n",
        "transforms = collections.defaultdict(dict)\n",
        "\n",
        "for op1 in [ Equal , GreaterThanEqual, LessThan, GreaterThan, LessThanEqual, NotEqual, NotIn, In, Is, IsNot, Not, And, Or,]:\n",
        "    for op2 in [ Equal, GreaterThanEqual, LessThan, GreaterThan, LessThanEqual, NotEqual, NotIn, In, Is, IsNot, Not, And, Or,]:\n",
        "        if op1 is op2: continue\n",
        "        apply, reverse = gen_transfomers(op1, op2)\n",
        "        transforms[op2str[op1]][op2str[op2]] = Transform(apply, reverse)\n"
      ]
    },
    {
      "cell_type": "code",
      "execution_count": 169,
      "metadata": {
        "colab": {
          "base_uri": "https://localhost:8080/"
        },
        "id": "vt2KGKcWK0Vt",
        "outputId": "0c6f1ea5-be20-4835-f3a0-970f11fddbcf"
      },
      "outputs": [
        {
          "data": {
            "text/plain": [
              "13"
            ]
          },
          "execution_count": 169,
          "metadata": {},
          "output_type": "execute_result"
        }
      ],
      "source": [
        "len(transforms)"
      ]
    },
    {
      "cell_type": "code",
      "execution_count": 170,
      "metadata": {
        "colab": {
          "base_uri": "https://localhost:8080/"
        },
        "id": "vEWHnLiOK2UI",
        "outputId": "68cd4e02-8a45-4310-d54e-c2cca2a7657e"
      },
      "outputs": [
        {
          "data": {
            "text/plain": [
              "{}"
            ]
          },
          "execution_count": 170,
          "metadata": {},
          "output_type": "execute_result"
        }
      ],
      "source": [
        "import random\n",
        "random.choice(transforms)"
      ]
    },
    {
      "cell_type": "code",
      "execution_count": 163,
      "metadata": {
        "colab": {
          "base_uri": "https://localhost:8080/",
          "height": 569
        },
        "id": "bL3SeHiN35TL",
        "outputId": "19636bf9-7b67-43a3-937c-5810687623c0"
      },
      "outputs": [
        {
          "ename": "TypeError",
          "evalue": "descriptor '__repr__' of 'object' object needs an argument",
          "output_type": "error",
          "traceback": [
            "\u001b[0;31m---------------------------------------------------------------------------\u001b[0m",
            "\u001b[0;31mTypeError\u001b[0m                                 Traceback (most recent call last)",
            "Cell \u001b[0;32mIn[163], line 23\u001b[0m\n\u001b[1;32m     21\u001b[0m module \u001b[39m=\u001b[39m cst\u001b[39m.\u001b[39mparse_module(code)\n\u001b[1;32m     22\u001b[0m wrapper \u001b[39m=\u001b[39m cst\u001b[39m.\u001b[39mMetadataWrapper(module)\n\u001b[0;32m---> 23\u001b[0m apply, reverse \u001b[39m=\u001b[39m composite_factory(TLIST)\n\u001b[1;32m     24\u001b[0m bugged \u001b[39m=\u001b[39m wrapper\u001b[39m.\u001b[39mvisit(apply())\n\u001b[1;32m     25\u001b[0m apply\n",
            "Cell \u001b[0;32mIn[158], line 6\u001b[0m, in \u001b[0;36mcomposite_factory\u001b[0;34m(mutators)\u001b[0m\n\u001b[1;32m      3\u001b[0m reverse_transforms \u001b[39m=\u001b[39m [m[\u001b[39m1\u001b[39m] \u001b[39mfor\u001b[39;00m m \u001b[39min\u001b[39;00m mutators]\n\u001b[1;32m      5\u001b[0m METADATA_PROVIDERS \u001b[39m=\u001b[39m \u001b[39mlist\u001b[39m(itertools\u001b[39m.\u001b[39mchain(\u001b[39m*\u001b[39mitertools\u001b[39m.\u001b[39mchain(t\u001b[39m.\u001b[39mMETADATA_DEPENDENCIES \u001b[39mfor\u001b[39;00m t \u001b[39min\u001b[39;00m apply_transforms)))\n\u001b[0;32m----> 6\u001b[0m \u001b[39mprint\u001b[39;49m(METADATA_PROVIDERS)\n\u001b[1;32m      8\u001b[0m \u001b[39mclass\u001b[39;00m \u001b[39mCompositeTaintOperatorProvider\u001b[39;00m(cst\u001b[39m.\u001b[39mBatchableMetadataProvider[Dict]):\n\u001b[1;32m     10\u001b[0m     \u001b[39mdef\u001b[39;00m \u001b[39mvisit_Comparison\u001b[39m(\u001b[39mself\u001b[39m, node: cst\u001b[39m.\u001b[39mParam) \u001b[39m-\u001b[39m\u001b[39m>\u001b[39m \u001b[39mNone\u001b[39;00m:\n",
            "Cell \u001b[0;32mIn[139], line 37\u001b[0m, in \u001b[0;36mgen_transfomers.<locals>.<lambda>\u001b[0;34m(self)\u001b[0m\n\u001b[1;32m     34\u001b[0m             vanilla \u001b[39m=\u001b[39m tainted\u001b[39m.\u001b[39mwith_changes(comparisons\u001b[39m=\u001b[39m[updated_comparison])\n\u001b[1;32m     35\u001b[0m         \u001b[39mreturn\u001b[39;00m vanilla\n\u001b[0;32m---> 37\u001b[0m ReverseTransformer\u001b[39m.\u001b[39m\u001b[39m__class__\u001b[39m\u001b[39m.\u001b[39m\u001b[39m__repr__\u001b[39m \u001b[39m=\u001b[39m \u001b[39mlambda\u001b[39;00m \u001b[39mself\u001b[39m: ReverseTransformer\u001b[39m.\u001b[39;49m\u001b[39m__repr__\u001b[39;49m() \u001b[39m+\u001b[39m \u001b[39m'\u001b[39m\u001b[39m:\u001b[39m\u001b[39m'\u001b[39m \u001b[39m+\u001b[39m op1\u001b[39m.\u001b[39m\u001b[39m__name__\u001b[39m \u001b[39m+\u001b[39m\u001b[39m'\u001b[39m\u001b[39m:\u001b[39m\u001b[39m'\u001b[39m \u001b[39m+\u001b[39m op2\u001b[39m.\u001b[39m\u001b[39m__name__\u001b[39m\n\u001b[1;32m     39\u001b[0m \u001b[39mreturn\u001b[39;00m ApplyTransformer, ReverseTransformer\n",
            "\u001b[0;31mTypeError\u001b[0m: descriptor '__repr__' of 'object' object needs an argument"
          ]
        }
      ],
      "source": [
        "sequence_of_transforms_to_apply = (\n",
        "    \"x >= z and x == y\" ,\n",
        "    [transforms['==']['>='],\n",
        "     transforms['and']['or']],\n",
        "    \"x >= z or x >= y\" ,\n",
        ")\n",
        "\n",
        "# pre_wrapper = cst.MetadataWrapper(module)\n",
        "# change_equal_to_op1, _ = gen_transfomers(Equal, op1)\n",
        "# new_code = pre_wrapper.visit(change_equal_to_op1)\n",
        "# print(new_code.code)\n",
        "# print(op1.__name__, '--->', op2.__name__)\n",
        "# print('  :', code, )\n",
        "# print('->:',bugged.code, )\n",
        "# vanilla = wrapper.visit(reverse())\n",
        "# print('<-:', vanilla.code)\n",
        "# print( '---')\n",
        "\n",
        "code, TLIST, result =  sequence_of_transforms_to_apply\n",
        "\n",
        "module = cst.parse_module(code)\n",
        "wrapper = cst.MetadataWrapper(module)\n",
        "apply, reverse = composite_factory(TLIST)\n",
        "bugged = wrapper.visit(apply())\n",
        "apply"
      ]
    },
    {
      "cell_type": "code",
      "execution_count": 99,
      "metadata": {
        "colab": {
          "base_uri": "https://localhost:8080/",
          "height": 222
        },
        "id": "yuM5IE6uxafZ",
        "outputId": "2b45b03c-822d-43ca-e3c9-6e65bfaea9a5"
      },
      "outputs": [],
      "source": [
        "# printdiff(cst.parse_expression(\"1 == 2\").code, cst.parse_express('1 >= 2').code)"
      ]
    }
  ],
  "metadata": {
    "colab": {
      "provenance": []
    },
    "kernelspec": {
      "display_name": "Python 3",
      "language": "python",
      "name": "python3"
    },
    "language_info": {
      "codemirror_mode": {
        "name": "ipython",
        "version": 3
      },
      "file_extension": ".py",
      "mimetype": "text/x-python",
      "name": "python",
      "nbconvert_exporter": "python",
      "pygments_lexer": "ipython3",
      "version": "3.10.6"
    },
    "orig_nbformat": 4,
    "vscode": {
      "interpreter": {
        "hash": "ceba285e8b4e6478fe8ad229bc63940a90ad5cf3d143521e7c38823a2e915b21"
      }
    }
  },
  "nbformat": 4,
  "nbformat_minor": 0
}
