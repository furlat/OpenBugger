{
 "cells": [
  {
   "cell_type": "code",
   "execution_count": 1,
   "metadata": {},
   "outputs": [],
   "source": [
    "\n",
    "from libcst import parse_module, Module, Expr, Pass, Comment, CSTTransformer, Comparison, CSTNode, ComparisonTarget\n",
    "from libcst import matchers\n",
    "from typing import List, Dict, Union, Tuple, Type\n",
    "import re\n",
    "from libcst import Equal, GreaterThanEqual\n"
   ]
  },
  {
   "cell_type": "code",
   "execution_count": 2,
   "metadata": {},
   "outputs": [],
   "source": [
    "class Mutation:\n",
    "    def __init__(self, forward_transformer, reverse_transformer):\n",
    "        self.forward_transformer = forward_transformer\n",
    "        self.reverse_transformer = reverse_transformer\n",
    "\n",
    "    def visit(self, tree):\n",
    "        tree = tree.visit(self.forward_transformer)\n",
    "        self.metadata = self.forward_transformer.metadata\n",
    "        return tree\n"
   ]
  },
  {
   "cell_type": "code",
   "execution_count": 3,
   "metadata": {},
   "outputs": [],
   "source": [
    "\n",
    "class IncorrectComparisonOperatorTransformer(CSTTransformer):\n",
    "    def __init__(self, correct_operators, incorrect_operators):\n",
    "        self.correct_operators = correct_operators\n",
    "        self.incorrect_operators = incorrect_operators\n",
    "        self.metadata = {}\n",
    "        self.visit_functions = [self.visit_Comparison]\n",
    "\n",
    "\n",
    "    def visit_Comparison(self, node: Comparison):\n",
    "        for comparison in node.comparisons:\n",
    "            for correct, incorrect in zip(self.correct_operators, self.incorrect_operators):\n",
    "                if isinstance(comparison.operator, correct):\n",
    "                    self.metadata[comparison] = (correct, incorrect)\n",
    "\n",
    "    def leave_Comparison(self, original_node: Comparison, updated_node: Comparison) -> Comparison:\n",
    "        for comparison, (correct, incorrect) in self.metadata.items():\n",
    "            updated_comparison = comparison.with_changes(operator=incorrect())\n",
    "            updated_node = original_node.with_changes(comparisons=[updated_comparison])\n",
    "        return updated_node\n",
    "\n",
    "\n"
   ]
  },
  {
   "cell_type": "code",
   "execution_count": 4,
   "metadata": {},
   "outputs": [],
   "source": [
    "class Mutator:\n",
    "    def __init__(self, mutations:List[Mutation]):\n",
    "        self.mutations = {mutation.__class__: mutation for mutation in mutations}\n",
    "\n",
    "    def bug(self, script:str):\n",
    "        self.module = parse_module(script)\n",
    "        metadata = []\n",
    "        for mutation in self.mutations.values():\n",
    "            self.out_module = mutation.visit(self.module)\n",
    "            metadata.append((mutation.__class__, mutation.metadata))\n",
    "        return self.out_module.code, metadata\n",
    "\n",
    "    def debug(self, script:str, metadata:List[Tuple[Type[Mutation], Dict]]):\n",
    "        self.module = parse_module(script)\n",
    "        for mutation_type, meta in metadata:\n",
    "            mutation = self.mutations[mutation_type]\n",
    "            self.module = mutation.reverse(meta)\n",
    "        return self.module.code\n"
   ]
  },
  {
   "cell_type": "code",
   "execution_count": 5,
   "metadata": {},
   "outputs": [
    {
     "name": "stdout",
     "output_type": "stream",
     "text": [
      "Original code:\n",
      "a == b\n",
      "Updated code using the transformer directly:\n",
      "a >= b\n"
     ]
    }
   ],
   "source": [
    "\n",
    "\n",
    "# Original code\n",
    "code = \"a == b\"\n",
    "print(\"Original code:\")\n",
    "print(code)\n",
    "\n",
    "# Create the transformer with the correct and incorrect operators\n",
    "transformer = IncorrectComparisonOperatorTransformer([Equal], [GreaterThanEqual])\n",
    "\n",
    "# Parse the code into a CST\n",
    "module = parse_module(code)\n",
    "\n",
    "# Apply the transformer to the CST\n",
    "updated_module = module.visit(transformer)\n",
    "\n",
    "# Print the updated code\n",
    "print(\"Updated code using the transformer directly:\")\n",
    "print(updated_module.code) # Output: \"a >= b\"\n"
   ]
  },
  {
   "cell_type": "code",
   "execution_count": 6,
   "metadata": {},
   "outputs": [
    {
     "name": "stdout",
     "output_type": "stream",
     "text": [
      "Bugged code:\n",
      "a >= b\n"
     ]
    }
   ],
   "source": [
    "mutation = Mutation(transformer, None)\n",
    "bugged_code, metadata = Mutator([mutation]).bug(code)\n",
    "print(\"Bugged code:\")\n",
    "print(bugged_code)"
   ]
  }
 ],
 "metadata": {
  "kernelspec": {
   "display_name": "Python 3",
   "language": "python",
   "name": "python3"
  },
  "language_info": {
   "codemirror_mode": {
    "name": "ipython",
    "version": 3
   },
   "file_extension": ".py",
   "mimetype": "text/x-python",
   "name": "python",
   "nbconvert_exporter": "python",
   "pygments_lexer": "ipython3",
   "version": "3.10.6 (tags/v3.10.6:9c7b4bd, Aug  1 2022, 21:53:49) [MSC v.1932 64 bit (AMD64)]"
  },
  "orig_nbformat": 4,
  "vscode": {
   "interpreter": {
    "hash": "ceba285e8b4e6478fe8ad229bc63940a90ad5cf3d143521e7c38823a2e915b21"
   }
  }
 },
 "nbformat": 4,
 "nbformat_minor": 2
}
