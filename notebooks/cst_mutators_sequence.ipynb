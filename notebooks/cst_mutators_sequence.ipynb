{
  "cells": [
    {
      "cell_type": "code",
      "execution_count": 1,
      "metadata": {
        "id": "NREXbcvgnskY"
      },
      "outputs": [],
      "source": [
        "from libcst import parse_module, Module, Expr, Pass, Comment, CSTTransformer, Comparison, CSTNode, ComparisonTarget\n",
        "from libcst import matchers\n",
        "from typing import  Union, Tuple, Type, Dict \n",
        "import re\n",
        "from libcst import Equal, GreaterThanEqual\n",
        "from libcst import matchers as m\n"
      ]
    },
    {
      "attachments": {},
      "cell_type": "markdown",
      "metadata": {},
      "source": [
        "Docs: \n",
        "\n",
        "https://libcst.readthedocs.io/en/latest/metadata.html#position-metadata\n",
        "\n",
        "https://libcst.readthedocs.io/en/latest/_modules/libcst/metadata/position_provider.html#PositionProvider\n",
        "\n",
        "https://libcst.readthedocs.io/en/latest/_modules/libcst/metadata/position_provider.html#WhitespaceInclusivePositionProvidingCodegenState\n",
        "\n",
        "\n",
        "https://libcst.readthedocs.io/en/latest/parser.html"
      ]
    },
    {
      "cell_type": "code",
      "execution_count": 2,
      "metadata": {
        "id": "u3SCFXCbytvU"
      },
      "outputs": [],
      "source": [
        "# Use difflib to show the changes to verify type annotations were added as expected.\n",
        "import difflib\n",
        "\n",
        "def printdiff(original_node, updated_node):\n",
        "    return (\n",
        "        \"\".join(\n",
        "            difflib.unified_diff(original_node.splitlines(1), updated_node.splitlines(1))\n",
        "        )\n",
        "    )"
      ]
    },
    {
      "cell_type": "code",
      "execution_count": 90,
      "metadata": {},
      "outputs": [],
      "source": [
        "import libcst as cst\n",
        "from libcst.codemod import CodemodContext, ContextAwareTransformer\n",
        "from libcst.metadata import BatchableMetadataProvider, PositionProvider, CodePosition, CodeRange\n",
        "import libcst.matchers as m\n",
        "\n",
        "def gen_context_transfomer(op1, op2):\n",
        "    class IsComparisonProvider(cst.BatchableMetadataProvider[Dict]):\n",
        "        def visit_ComparisonTarget(self, node: cst.ComparisonTarget) -> None:\n",
        "            # Mark the node as an equal comparison node\n",
        "            target = op2() if node.operator.__class__ == op1 else node.operator.__class__\n",
        "            self.set_metadata(node, dict(comparison=node, \n",
        "                                    original=node.operator.__class__,target=target,author=self.__class__.__name__ ))\n",
        "                         \n",
        "\n",
        "    class ApplyTransformer(ContextAwareTransformer):\n",
        "        METADATA_DEPENDENCIES = (IsComparisonProvider,PositionProvider, )\n",
        "        def __init__(\n",
        "            self,\n",
        "            context: CodemodContext):\n",
        "            super().__init__(context)\n",
        "\n",
        "        def update_positions(self, meta_pos: CodePosition) -> None:\n",
        "            already_modified  = [x for x in self.context.scratch.values() if meta_pos.start== x[\"original_position\"].start]\n",
        "            print(\"already in scratch\",[(x[\"original_position\"].start, x[\"original_position\"].end) for x in already_modified]) \n",
        "            modified_keys = [x for x in self.context.scratch.keys() if meta_pos.start== self.context.scratch.get(x)[\"original_position\"].start]\n",
        "            key = modified_keys[0]\n",
        "            #compute the delta between the end of the original node and the new one\n",
        "            delta = meta_pos.end.column - self.context.scratch[key][\"original_position\"].end.column\n",
        "            #update the scratch with the new position of the node\n",
        "            self.context.scratch[key][\"original_position\"] = meta_pos\n",
        "            #update the column position of all the nodes in the scratch that are on the same line\n",
        "            for (k,v) in zip(self.context.scratch.keys(),self.context.scratch.values()):\n",
        "                if k != key and v[\"original_position\"].start.line == meta_pos.start.line:\n",
        "                    v[\"original_position\"]=CodeRange(start=CodePosition(line=v[\"original_position\"].start.line,column=v[\"original_position\"].start.column+delta),end =CodePosition(line=v[\"original_position\"].end.line,column=v[\"original_position\"].end.column+delta))\n",
        "            \n",
        "            \n",
        "            print(\"the delta is\",delta)\n",
        "\n",
        "        def leave_ComparisonTarget(self, original_node:cst.ComparisonTarget, updated_node: cst.ComparisonTarget) -> None:\n",
        "            meta_pos = self.get_metadata(PositionProvider, original_node)\n",
        "            if not any(meta_pos.start == x[\"original_position\"].start for x in self.context.scratch.values()): # alternatively but risky if not any(original_node.deep_equals(x) for x in self.context.scratch.keys()): # TODO this check should be done based on position\n",
        "                # print(\"not in scratch\")\n",
        "                meta = self.get_metadata(IsComparisonProvider, original_node)\n",
        "                #only updates nodes tagged for changes\n",
        "                if meta['original'] != meta['target']:\n",
        "                    updated_node = meta['comparison'].with_changes(operator=meta['target']) # OP2\n",
        "                    self.context.scratch[updated_node] = {\"modified\": True, \"author\": self.__class__.__name__, \"original_position\": meta_pos} # TODO here the new position of the node should be computed instead of using the original one\n",
        "                    print(\"added to scratch\",meta['original']().__class__,meta['target'].__class__,meta_pos)\n",
        "            else:\n",
        "                self.update_positions(meta_pos)\n",
        "                print(\"current node position\",meta_pos.start, meta_pos.end)\n",
        "                print(\"updated_position\",[self.context.scratch.get(x)[\"original_position\"] for x in self.context.scratch.keys() if meta_pos.start== self.context.scratch.get(x)[\"original_position\"].start])\n",
        "            return updated_node\n",
        "            \n",
        "        def __repr__(self):\n",
        "            return super().__repr__(self) + ':' + op1.__name__ +':' + op2.__name__\n",
        "    \n",
        "\n",
        "    return ApplyTransformer"
      ]
    },
    {
      "cell_type": "code",
      "execution_count": 88,
      "metadata": {},
      "outputs": [],
      "source": [
        "\n",
        "from libcst.codemod import CodemodContext, Codemod\n",
        "from libcst.metadata import MetadataWrapper\n",
        "from libcst import Equal, GreaterThanEqual, GreaterThan\n",
        "class Bugger(Codemod):  \n",
        "    def __init__(self, op1, op2, op3):\n",
        "        self.apply_transformer = gen_context_transfomer(op1, op2)\n",
        "        self.apply_transformer2 = gen_context_transfomer(op2, op3)\n",
        "        self.context = CodemodContext()\n",
        "        Codemod.__init__(self,self.context)\n",
        "\n",
        "\n",
        "    def transform_module_impl(self, tree: Module) -> Module:\n",
        "        # Apply the ApplyTransformer to the CST\n",
        "        tainted=self.apply_transformer(self.context).transform_module(tree) \n",
        "        tainted= self.apply_transformer2(self.context).transform_module(tainted)\n",
        "        # tainted= self.apply_transformer2(self.context).transform_module(tainted_1)\n",
        "        return tainted\n"
      ]
    },
    {
      "cell_type": "code",
      "execution_count": 89,
      "metadata": {},
      "outputs": [
        {
          "name": "stdout",
          "output_type": "stream",
          "text": [
            "added to scratch <class 'libcst._nodes.op.Equal'> <class 'libcst._nodes.op.GreaterThan'> CodeRange(start=CodePosition(line=1, column=1), end=CodePosition(line=1, column=10))\n",
            "added to scratch <class 'libcst._nodes.op.Equal'> <class 'libcst._nodes.op.GreaterThan'> CodeRange(start=CodePosition(line=1, column=10), end=CodePosition(line=1, column=19))\n",
            "already in scratch [(CodePosition(line=1, column=1), CodePosition(line=1, column=10))]\n",
            "the delta is -1\n",
            "current node position CodePosition(line=1, column=1) CodePosition(line=1, column=9)\n",
            "updated_position [CodeRange(start=CodePosition(line=1, column=1), end=CodePosition(line=1, column=9))]\n",
            "already in scratch [(CodePosition(line=1, column=9), CodePosition(line=1, column=18))]\n",
            "the delta is -1\n",
            "current node position CodePosition(line=1, column=9) CodePosition(line=1, column=17)\n",
            "updated_position [CodeRange(start=CodePosition(line=1, column=9), end=CodePosition(line=1, column=17))]\n",
            "added to scratch <class 'libcst._nodes.op.GreaterThan'> <class 'libcst._nodes.op.GreaterThanEqual'> CodeRange(start=CodePosition(line=1, column=26), end=CodePosition(line=1, column=30))\n",
            "x > 1 + 2 > 3 + 2 != 3 + 4 >= 3\n"
          ]
        }
      ],
      "source": [
        "## Test\n",
        "from libcst import (Equal, GreaterThanEqual, LessThan, GreaterThan, \n",
        "                    LessThanEqual, NotEqual, NotIn, In, Is, IsNot, Not, And, Or, Match)\n",
        "import collections\n",
        "\n",
        "str2op = dict([\n",
        "    ('==', Equal),\n",
        "    ('>=', GreaterThanEqual),\n",
        "    ('>', GreaterThan),\n",
        "    ('<', LessThan),\n",
        "    ('=<', LessThanEqual),\n",
        "    ('!=', NotEqual),\n",
        "    ('not in', NotIn),\n",
        "    ('in', In),\n",
        "    ('is', Is),\n",
        "    ('is not', IsNot),\n",
        "    ('not', Not),\n",
        "    ('and', And),\n",
        "    ('or', Or),\n",
        "    ('or', Or),\n",
        "    # ('match', Match),\n",
        "])\n",
        "\n",
        "bugger = Bugger(str2op['=='], str2op['>'],str2op['>='])\n",
        "\n",
        "# Get the script as a string\n",
        "script = \"x == 1 + 2 == 3 + 2 != 3 + 4 > 3\"\n",
        "\n",
        "# Parse the script into a CST\n",
        "module = cst.parse_module(script)\n",
        "# first applies == to > then > to >= , the > introduced by the first step should not be modified\n",
        "tainted = bugger.transform_module(module)\n",
        "print(tainted.code)\n",
        "# print(bugger.context.scratch)\n"
      ]
    },
    {
      "cell_type": "code",
      "execution_count": 6,
      "metadata": {},
      "outputs": [
        {
          "data": {
            "text/plain": [
              "{ComparisonTarget(\n",
              "     operator=GreaterThan(\n",
              "         whitespace_before=SimpleWhitespace(\n",
              "             value=' ',\n",
              "         ),\n",
              "         whitespace_after=SimpleWhitespace(\n",
              "             value=' ',\n",
              "         ),\n",
              "     ),\n",
              "     comparator=BinaryOperation(\n",
              "         left=Integer(\n",
              "             value='1',\n",
              "             lpar=[],\n",
              "             rpar=[],\n",
              "         ),\n",
              "         operator=Add(\n",
              "             whitespace_before=SimpleWhitespace(\n",
              "                 value=' ',\n",
              "             ),\n",
              "             whitespace_after=SimpleWhitespace(\n",
              "                 value=' ',\n",
              "             ),\n",
              "         ),\n",
              "         right=Integer(\n",
              "             value='2',\n",
              "             lpar=[],\n",
              "             rpar=[],\n",
              "         ),\n",
              "         lpar=[],\n",
              "         rpar=[],\n",
              "     ),\n",
              " ): {'modified': True,\n",
              "  'author': 'ApplyTransformer',\n",
              "  'original_position': CodeRange(start=CodePosition(line=1, column=1), end=CodePosition(line=1, column=10))},\n",
              " ComparisonTarget(\n",
              "     operator=GreaterThanEqual(\n",
              "         whitespace_before=SimpleWhitespace(\n",
              "             value=' ',\n",
              "         ),\n",
              "         whitespace_after=SimpleWhitespace(\n",
              "             value=' ',\n",
              "         ),\n",
              "     ),\n",
              "     comparator=Integer(\n",
              "         value='3',\n",
              "         lpar=[],\n",
              "         rpar=[],\n",
              "     ),\n",
              " ): {'modified': True,\n",
              "  'author': 'ApplyTransformer',\n",
              "  'original_position': CodeRange(start=CodePosition(line=1, column=18), end=CodePosition(line=1, column=22))}}"
            ]
          },
          "execution_count": 6,
          "metadata": {},
          "output_type": "execute_result"
        }
      ],
      "source": [
        "#sort changed nodes by starting node\n",
        "scratch = bugger.context.scratch\n",
        "dict(sorted(scratch.items(), key=lambda item: item[1][\"original_position\"].start.column))"
      ]
    },
    {
      "cell_type": "code",
      "execution_count": 7,
      "metadata": {},
      "outputs": [],
      "source": [
        "#let's generate a visitor that computes the length of a single node , maybe there are different approaches\n",
        "    \n",
        "class LengthVisitor(cst.CSTVisitor):\n",
        "    METADATA_DEPENDENCIES = (PositionProvider,)\n",
        "    def __init__(self):\n",
        "        self.positions = []\n",
        "    def on_leave(self, node, updated_node):\n",
        "        self.positions.append(self.get_metadata(PositionProvider, node))\n",
        "    def get_positions(self):\n",
        "        return self.positions    \n"
      ]
    }
  ],
  "metadata": {
    "colab": {
      "provenance": []
    },
    "kernelspec": {
      "display_name": "Python 3",
      "language": "python",
      "name": "python3"
    },
    "language_info": {
      "codemirror_mode": {
        "name": "ipython",
        "version": 3
      },
      "file_extension": ".py",
      "mimetype": "text/x-python",
      "name": "python",
      "nbconvert_exporter": "python",
      "pygments_lexer": "ipython3",
      "version": "3.10.6"
    },
    "orig_nbformat": 4,
    "vscode": {
      "interpreter": {
        "hash": "ceba285e8b4e6478fe8ad229bc63940a90ad5cf3d143521e7c38823a2e915b21"
      }
    }
  },
  "nbformat": 4,
  "nbformat_minor": 0
}
