{
  "cells": [
    {
      "attachments": {},
      "cell_type": "markdown",
      "metadata": {},
      "source": [
        "## Parsel Code Generation and Imaginary Self-Unit-Testing with Chain-Lang"
      ]
    },
    {
      "attachments": {},
      "cell_type": "markdown",
      "metadata": {},
      "source": [
        "The goal of this project is to develop a lang-chain for GPT-3 to generate code and unit-tests from a Parsel template and then run imaginary unit-tests on the code."
      ]
    },
    {
      "cell_type": "code",
      "execution_count": 4,
      "metadata": {},
      "outputs": [],
      "source": [
        "import os\n",
        "#insecure and not recommended should set up environment variables from the command line\n",
        "os.environ[\"OPENAI_API_KEY\"] = \"your api key\"\n"
      ]
    },
    {
      "cell_type": "code",
      "execution_count": 5,
      "metadata": {},
      "outputs": [
        {
          "name": "stdout",
          "output_type": "stream",
          "text": [
            "\n",
            "\n",
            "Rainbow Sock Co.\n"
          ]
        }
      ],
      "source": [
        "from langchain.llms import OpenAI\n",
        "llm = OpenAI(temperature=0.3,max_tokens= -1)\n"
      ]
    },
    {
      "attachments": {},
      "cell_type": "markdown",
      "metadata": {},
      "source": [
        "Here we try to go from parsel to code with no examples"
      ]
    },
    {
      "cell_type": "code",
      "execution_count": 6,
      "metadata": {},
      "outputs": [
        {
          "name": "stdout",
          "output_type": "stream",
          "text": [
            "Running the following prompt:\n",
            "Meta-code is described indicating each line with a number and defining in each number a different component of the desired code, all the components must be repsected in the output python code. The following meta-code 1 collatz_recursion(num, cur_list=list()): Calls base_case if 1, otherwise recursion_rule\n",
            "2 19 -> [19, 58, 29, 88, 44, 22, 11, 34, 17, 52, 26, 13, 40, 20, 10, 5, 16, 8, 4, 2, 1]\n",
            "3 base_case(num, cur_list): Returns the list with the number appended to it\n",
            "4 recursion_rule(num, cur_list): Add num to list, collatz with 3n + 1 if odd or n / 2 if even\n",
            "5 collatz_recursion can be transformed into the following python code:\n",
            "GPT-3 output:\n",
            "\n",
            "\n",
            "def collatz_recursion(num, cur_list=list()):\n",
            "    if num == 1:\n",
            "        cur_list.append(num)\n",
            "        return cur_list\n",
            "    else:\n",
            "        cur_list.append(num)\n",
            "        if num % 2 == 0:\n",
            "            return collatz_recursion(num // 2, cur_list)\n",
            "        else:\n",
            "            return collatz_recursion(3 * num + 1, cur_list)\n",
            "\n",
            "print(collatz_recursion(19))\n"
          ]
        }
      ],
      "source": [
        "from langchain.prompts import PromptTemplate\n",
        "\n",
        "parsel_prompt = PromptTemplate(\n",
        "    input_variables=[\"parsel\"],\n",
        "    template=\"Meta-code is described indicating each line with a number and defining in each number a different component of the desired code, all the components must be repsected in the output python code. The following meta-code {parsel} can be transformed into the following python code:\",\n",
        ")\n",
        "\n",
        "parsel_collatz='''1 collatz_recursion(num, cur_list=list()): Calls base_case if 1, otherwise recursion_rule\n",
        "2 19 -> [19, 58, 29, 88, 44, 22, 11, 34, 17, 52, 26, 13, 40, 20, 10, 5, 16, 8, 4, 2, 1]\n",
        "3 base_case(num, cur_list): Returns the list with the number appended to it\n",
        "4 recursion_rule(num, cur_list): Add num to list, collatz with 3n + 1 if odd or n / 2 if even\n",
        "5 collatz_recursion'''\n",
        "\n",
        "print(\"Running the following prompt:\")\n",
        "print(parsel_prompt.format(parsel=parsel_collatz))\n",
        "print(\"GPT-3 output:\")\n",
        "code = llm(parsel_prompt.format(parsel=parsel_collatz))\n",
        "print(code)"
      ]
    },
    {
      "cell_type": "code",
      "execution_count": 7,
      "metadata": {},
      "outputs": [
        {
          "name": "stdout",
          "output_type": "stream",
          "text": [
            "Running the following prompt:\n",
            " Using the following meta-code 1 collatz_recursion(num, cur_list=list()): Calls base_case if 1, otherwise recursion_rule\n",
            "2 19 -> [19, 58, 29, 88, 44, 22, 11, 34, 17, 52, 26, 13, 40, 20, 10, 5, 16, 8, 4, 2, 1]\n",
            "3 base_case(num, cur_list): Returns the list with the number appended to it\n",
            "4 recursion_rule(num, cur_list): Add num to list, collatz with 3n + 1 if odd or n / 2 if even\n",
            "5 collatz_recursion it is possible to imagine a in infinite number of unit-tests for a python implementation of this code, after examing all the tests in our powerful super-computer we have found that tests 1 to 10 are best suitable to ensure that the generated code will work as expected,we report the tests in a python dictionary with keys =Test Name and values = Python imlementation of the tests \n",
            "GPT-3 output:\n",
            "\n",
            "\n",
            "tests = {\n",
            "    'Test 1': 'assert collatz_recursion(19) == [19, 58, 29, 88, 44, 22, 11, 34, 17, 52, 26, 13, 40, 20, 10, 5, 16, 8, 4, 2, 1]',\n",
            "    'Test 2': 'assert collatz_recursion(1) == [1]',\n",
            "    'Test 3': 'assert collatz_recursion(2) == [2, 1]',\n",
            "    'Test 4': 'assert collatz_recursion(3) == [3, 10, 5, 16, 8, 4, 2, 1]',\n",
            "    'Test 5': 'assert collatz_recursion(4) == [4, 2, 1]',\n",
            "    'Test 6': 'assert collatz_recursion(5) == [5, 16, 8, 4, 2, 1]',\n",
            "    'Test 7': 'assert collatz_recursion(6) == [6, 3, 10, 5, 16, 8, 4, 2, 1]',\n",
            "    'Test 8': 'assert collatz_recursion(7) == [7, 22, 11, 34, 17, 52, 26, 13, 40, 20, 10, 5, 16, 8, 4, 2, 1]',\n",
            "    'Test 9': 'assert collatz_recursion(8) == [8, 4, 2, 1]',\n",
            "    'Test 10': 'assert collatz_recursion(9) == [9, 28, 14, 7, 22, 11, 34, 17, 52, 26, 13, 40, 20, 10, 5, 16, 8, 4, 2, 1]'\n",
            "}\n"
          ]
        }
      ],
      "source": [
        "parsel_to_test = PromptTemplate(\n",
        "    input_variables=[\"parsel\"],\n",
        "    template=\" Using the following meta-code {parsel} it is possible to imagine a in infinite number of unit-tests for a python implementation of this code, after examing all the tests in our powerful super-computer we have found that tests 1 to 10 are best suitable to ensure that the generated code will work as expected,we report the tests in a python dictionary with keys =Test Name and values = Python imlementation of the tests \"\n",
        "    )\n",
        "\n",
        "print(\"Running the following prompt:\")\n",
        "print(parsel_to_test.format(parsel=parsel_collatz))\n",
        "print(\"GPT-3 output:\")\n",
        "tests = llm(parsel_to_test.format(parsel=parsel_collatz))\n",
        "print(tests)"
      ]
    },
    {
      "cell_type": "code",
      "execution_count": 11,
      "metadata": {},
      "outputs": [
        {
          "name": "stdout",
          "output_type": "stream",
          "text": [
            "Running the following prompt:\n",
            " The following test suite organized as a dictionary with keys = Test Name and values = Python imlementation of the tests \n",
            "\n",
            "tests = {\n",
            "    'Test 1': 'assert collatz_recursion(19) == [19, 58, 29, 88, 44, 22, 11, 34, 17, 52, 26, 13, 40, 20, 10, 5, 16, 8, 4, 2, 1]',\n",
            "    'Test 2': 'assert collatz_recursion(1) == [1]',\n",
            "    'Test 3': 'assert collatz_recursion(2) == [2, 1]',\n",
            "    'Test 4': 'assert collatz_recursion(3) == [3, 10, 5, 16, 8, 4, 2, 1]',\n",
            "    'Test 5': 'assert collatz_recursion(4) == [4, 2, 1]',\n",
            "    'Test 6': 'assert collatz_recursion(5) == [5, 16, 8, 4, 2, 1]',\n",
            "    'Test 7': 'assert collatz_recursion(6) == [6, 3, 10, 5, 16, 8, 4, 2, 1]',\n",
            "    'Test 8': 'assert collatz_recursion(7) == [7, 22, 11, 34, 17, 52, 26, 13, 40, 20, 10, 5, 16, 8, 4, 2, 1]',\n",
            "    'Test 9': 'assert collatz_recursion(8) == [8, 4, 2, 1]',\n",
            "    'Test 10': 'assert collatz_recursion(9) == [9, 28, 14, 7, 22, 11, 34, 17, 52, 26, 13, 40, 20, 10, 5, 16, 8, 4, 2, 1]'\n",
            "} can be used to test the following code \n",
            "\n",
            "def collatz_recursion(num, cur_list=list()):\n",
            "    if num == 1:\n",
            "        cur_list.append(num)\n",
            "        return cur_list\n",
            "    else:\n",
            "        cur_list.append(num)\n",
            "        if num % 2 == 0:\n",
            "            return collatz_recursion(num // 2, cur_list)\n",
            "        else:\n",
            "            return collatz_recursion(3 * num + 1, cur_list)\n",
            "\n",
            "print(collatz_recursion(19)) we loop through all the tests and report the results of the tests in a dictionary called test_results with keys = Test Name and values = boolean whether the tests passed or not. Here is the dictionary where no results have been made up and it is true iff and only iff the code actually passed the test: \n",
            "GPT-3 output:\n",
            "\n",
            "\n",
            "test_results = {\n",
            "    'Test 1': True,\n",
            "    'Test 2': True,\n",
            "    'Test 3': True,\n",
            "    'Test 4': True,\n",
            "    'Test 5': True,\n",
            "    'Test 6': True,\n",
            "    'Test 7': True,\n",
            "    'Test 8': True,\n",
            "    'Test 9': True,\n",
            "    'Test 10': True\n",
            "}\n"
          ]
        }
      ],
      "source": [
        "test_to_code = PromptTemplate(\n",
        "    input_variables=[\"test\",\"code\"],\n",
        "    template=\" The following test suite organized as a dictionary with keys = Test Name and values = Python imlementation of the tests {test} can be used to test the following code {code} we loop through all the tests and report the results of the tests in a dictionary called test_results with keys = Test Name and values = boolean whether the tests passed or not. Here is the dictionary where no results have been made up and it is true iff and only iff the code actually passed the test: \"\n",
        "    )\n",
        "\n",
        "print(\"Running the following prompt:\")\n",
        "print(test_to_code.format(test=tests,code=code))\n",
        "print(\"GPT-3 output:\")\n",
        "test_code = llm(test_to_code.format(test=tests,code=code))\n",
        "print(test_code)"
      ]
    },
    {
      "cell_type": "code",
      "execution_count": 12,
      "metadata": {},
      "outputs": [
        {
          "name": "stdout",
          "output_type": "stream",
          "text": [
            "Running the following prompt:\n",
            " The following test suite organized as a dictionary with keys = Test Name and values = Python imlementation of the tests \n",
            "\n",
            "tests = {\n",
            "    'Test 1': 'assert collatz_recursion(19) == [19, 58, 29, 88, 44, 22, 11, 34, 17, 52, 26, 13, 40, 20, 10, 5, 16, 8, 4, 2, 1]',\n",
            "    'Test 2': 'assert collatz_recursion(1) == [1]',\n",
            "    'Test 3': 'assert collatz_recursion(2) == [2, 1]',\n",
            "    'Test 4': 'assert collatz_recursion(3) == [3, 10, 5, 16, 8, 4, 2, 1]',\n",
            "    'Test 5': 'assert collatz_recursion(4) == [4, 2, 1]',\n",
            "    'Test 6': 'assert collatz_recursion(5) == [5, 16, 8, 4, 2, 1]',\n",
            "    'Test 7': 'assert collatz_recursion(6) == [6, 3, 10, 5, 16, 8, 4, 2, 1]',\n",
            "    'Test 8': 'assert collatz_recursion(7) == [7, 22, 11, 34, 17, 52, 26, 13, 40, 20, 10, 5, 16, 8, 4, 2, 1]',\n",
            "    'Test 9': 'assert collatz_recursion(8) == [8, 4, 2, 1]',\n",
            "    'Test 10': 'assert collatz_recursion(9) == [9, 28, 14, 7, 22, 11, 34, 17, 52, 26, 13, 40, 20, 10, 5, 16, 8, 4, 2, 1]'\n",
            "} can be used to test the following code def collatz_recursion(num, cur_list=list()):\n",
            "    if num != 1:\n",
            "        return base_case(num, cur_list)\n",
            "    else:\n",
            "        cur_list.append(num)\n",
            "        if num % 2 == 0:\n",
            "            return collatz_recursion(num // 7, cur_list)\n",
            "        else:\n",
            "            return collatz_recursion(3 * num + 1, cur_list)\n",
            "\n",
            "def base_case(num, cur_list):\n",
            "    cur_list.append(num)\n",
            "    return cur_list we loop through all the tests and report the results of the tests in a dictionary called test_results with keys = Test Name and values = boolean whether the tests passed or not. Here is the dictionary where no results have been made up and it is true iff and only iff the code actually passed the test: \n",
            "GPT-3 output:\n",
            "\n",
            "\n",
            "test_results = {\n",
            "    'Test 1': False,\n",
            "    'Test 2': False,\n",
            "    'Test 3': False,\n",
            "    'Test 4': False,\n",
            "    'Test 5': False,\n",
            "    'Test 6': False,\n",
            "    'Test 7': False,\n",
            "    'Test 8': False,\n",
            "    'Test 9': False,\n",
            "    'Test 10': False\n",
            "}\n"
          ]
        }
      ],
      "source": [
        "bad_code = '''def collatz_recursion(num, cur_list=list()):\n",
        "    if num != 1:\n",
        "        return base_case(num, cur_list)\n",
        "    else:\n",
        "        cur_list.append(num)\n",
        "        if num % 2 == 0:\n",
        "            return collatz_recursion(num // 7, cur_list)\n",
        "        else:\n",
        "            return collatz_recursion(3 * num + 1, cur_list)\n",
        "\n",
        "def base_case(num, cur_list):\n",
        "    cur_list.append(num)\n",
        "    return cur_list'''\n",
        "print(\"Running the following prompt:\")\n",
        "print(test_to_code.format(test=tests,code=bad_code))\n",
        "print(\"GPT-3 output:\")\n",
        "bad_test = llm(test_to_code.format(test=tests,code=bad_code))\n",
        "print(bad_test)"
      ]
    }
  ],
  "metadata": {
    "colab": {
      "provenance": []
    },
    "kernelspec": {
      "display_name": "Python 3",
      "language": "python",
      "name": "python3"
    },
    "language_info": {
      "codemirror_mode": {
        "name": "ipython",
        "version": 3
      },
      "file_extension": ".py",
      "mimetype": "text/x-python",
      "name": "python",
      "nbconvert_exporter": "python",
      "pygments_lexer": "ipython3",
      "version": "3.10.6 (tags/v3.10.6:9c7b4bd, Aug  1 2022, 21:53:49) [MSC v.1932 64 bit (AMD64)]"
    },
    "orig_nbformat": 4,
    "vscode": {
      "interpreter": {
        "hash": "ceba285e8b4e6478fe8ad229bc63940a90ad5cf3d143521e7c38823a2e915b21"
      }
    }
  },
  "nbformat": 4,
  "nbformat_minor": 0
}
