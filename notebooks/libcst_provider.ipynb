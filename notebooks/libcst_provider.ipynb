{
 "cells": [
  {
   "attachments": {},
   "cell_type": "markdown",
   "metadata": {},
   "source": [
    "First, we can create the IncorrectComparisonOperatorProvider class, which is a BaseMetadataProvider that will record the original operator and the replacement operator for a comparison node. This provider will be used by the transformer to store the original and replacement operators, so that it can later use that information to update the comparison operator.\n",
    "\n",
    "Next, we can create the IncorrectComparisonOperatorTransformer class, which is a CSTTransformer that will replace the comparison operator of a comparison node with an incorrect operator. This transformer will use the IncorrectComparisonOperatorProvider to store the original and replacement operators, so that it can later use that information to update the comparison operator. It will also have a visit_Comparison method that will take a comparison node and iterate through its comparisons, check if the operator is a correct operator and if it is, it will use the provider to store the original and replacement operator, and then update the comparison operator with the incorrect operator in the leave_Comparison method.\n",
    "\n",
    "Finally, we can create the ReverseIncorrectComparisonOperatorTransformer class, which is a CSTTransformer that will reverse the changes made by the IncorrectComparisonOperatorTransformer by replacing the comparison operator of a comparison node with the original operator. This transformer will use the IncorrectComparisonOperatorProvider to retrieve the original and replacement operators, so that it can later use that information to update the comparison operator. It will also have a visit_Comparison method that will take a comparison node and iterate through its comparisons, and then use the provider to retrieve the original and replacement operator, and then update the comparison operator with the original operator in the leave_Comparison method."
   ]
  },
  {
   "cell_type": "code",
   "execution_count": 13,
   "metadata": {},
   "outputs": [],
   "source": [
    "from libcst import parse_module, Module, Expr, Pass, Comment, CSTTransformer, Comparison, CSTNode, ComparisonTarget, MetadataWrapper, MetadataDependent, BaseMetadataProvider, BatchableMetadataProvider, BaseCompOp\n",
    "from libcst import matchers\n",
    "from typing import List, Dict, Union, Tuple, Type\n",
    "from libcst import Equal, GreaterThanEqual, LessThan, GreaterThan, LessThanEqual, NotEqual, NotIn, In, Is, IsNot, Not, And, Or, Match\n",
    "from libcst import matchers as m\n",
    "\n",
    "\n",
    "\n"
   ]
  },
  {
   "cell_type": "code",
   "execution_count": null,
   "metadata": {},
   "outputs": [],
   "source": [
    "import libcst as cst\n",
    "\n",
    "\n",
    "class IsParamProvider(cst.BatchableMetadataProvider[bool]):\n",
    "    \"\"\"\n",
    "    Marks Name nodes found as a parameter to a function.\n",
    "    \"\"\"\n",
    "    def __init__(self) -> None:\n",
    "        super().__init__()\n",
    "        self.is_param = False\n",
    "\n",
    "    def visit_Param(self, node: cst.Param) -> None:\n",
    "        # Mark the child Name node as a parameter\n",
    "        self.set_metadata(node.name, True)\n",
    "\n",
    "    def visit_Name(self, node: cst.Name) -> None:\n",
    "        # Mark all other Name nodes as not parameters\n",
    "        if not self.get_metadata(type(self), node, False):\n",
    "            self.set_metadata(node, False)"
   ]
  },
  {
   "cell_type": "code",
   "execution_count": 2,
   "metadata": {},
   "outputs": [
    {
     "name": "stdout",
     "output_type": "stream",
     "text": [
      "False\n"
     ]
    }
   ],
   "source": [
    "module = cst.parse_module(\"x\")\n",
    "wrapper = cst.MetadataWrapper(module)\n",
    "\n",
    "isparam = wrapper.resolve(IsParamProvider)\n",
    "x_name_node = wrapper.module.body[0].body[0].value\n",
    "\n",
    "print(isparam[x_name_node])  # should print False"
   ]
  },
  {
   "cell_type": "code",
   "execution_count": 25,
   "metadata": {},
   "outputs": [],
   "source": [
    "class IsComparisonProvider(cst.BatchableMetadataProvider[bool]):\n",
    "    \"\"\"\n",
    "    Marks Name nodes found as a parameter to a function.\n",
    "    \"\"\"\n",
    "    def __init__(self) -> None:\n",
    "        super().__init__()\n",
    "\n",
    "    def visit_Comparison(self, node: cst.Comparison) -> None:\n",
    "        # Mark the child Name node as a parameter\n",
    "        self.set_metadata(node, True)\n",
    "\n"
   ]
  },
  {
   "cell_type": "code",
   "execution_count": 27,
   "metadata": {},
   "outputs": [
    {
     "name": "stdout",
     "output_type": "stream",
     "text": [
      "Comparison(\n",
      "    left=Integer(\n",
      "        value='1',\n",
      "        lpar=[],\n",
      "        rpar=[],\n",
      "    ),\n",
      "    comparisons=[\n",
      "        ComparisonTarget(\n",
      "            operator=LessThanEqual(\n",
      "                whitespace_before=SimpleWhitespace(\n",
      "                    value=' ',\n",
      "                ),\n",
      "                whitespace_after=SimpleWhitespace(\n",
      "                    value=' ',\n",
      "                ),\n",
      "            ),\n",
      "            comparator=Integer(\n",
      "                value='2',\n",
      "                lpar=[],\n",
      "                rpar=[],\n",
      "            ),\n",
      "        ),\n",
      "    ],\n",
      "    lpar=[],\n",
      "    rpar=[],\n",
      ") True\n",
      "Comparison(\n",
      "    left=Integer(\n",
      "        value='2',\n",
      "        lpar=[],\n",
      "        rpar=[],\n",
      "    ),\n",
      "    comparisons=[\n",
      "        ComparisonTarget(\n",
      "            operator=GreaterThan(\n",
      "                whitespace_before=SimpleWhitespace(\n",
      "                    value=' ',\n",
      "                ),\n",
      "                whitespace_after=SimpleWhitespace(\n",
      "                    value=' ',\n",
      "                ),\n",
      "            ),\n",
      "            comparator=Integer(\n",
      "                value='3',\n",
      "                lpar=[],\n",
      "                rpar=[],\n",
      "            ),\n",
      "        ),\n",
      "    ],\n",
      "    lpar=[],\n",
      "    rpar=[],\n",
      ") True\n"
     ]
    }
   ],
   "source": [
    "code = \"\"\"\n",
    "if 1 <= 2:\n",
    "    pass\n",
    "elif 2 > 3:\n",
    "    pass\n",
    "else:\n",
    "    pass\n",
    "\"\"\"\n",
    "module = cst.parse_module(code)\n",
    "wrapper = cst.MetadataWrapper(module)\n",
    "iscomparison = wrapper.resolve(IsComparisonProvider)\n",
    "for key, value in iscomparison.items():\n",
    "    print(key, value)\n"
   ]
  }
 ],
 "metadata": {
  "kernelspec": {
   "display_name": "Python 3",
   "language": "python",
   "name": "python3"
  },
  "language_info": {
   "codemirror_mode": {
    "name": "ipython",
    "version": 3
   },
   "file_extension": ".py",
   "mimetype": "text/x-python",
   "name": "python",
   "nbconvert_exporter": "python",
   "pygments_lexer": "ipython3",
   "version": "3.10.6"
  },
  "orig_nbformat": 4,
  "vscode": {
   "interpreter": {
    "hash": "ceba285e8b4e6478fe8ad229bc63940a90ad5cf3d143521e7c38823a2e915b21"
   }
  }
 },
 "nbformat": 4,
 "nbformat_minor": 2
}
