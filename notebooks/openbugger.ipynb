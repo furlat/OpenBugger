{
  "cells": [
    {
      "attachments": {},
      "cell_type": "markdown",
      "metadata": {},
      "source": [
        "# OpenBugger\n",
        "This notebook is a self-contained demo of the OpenBugger package that automatically bugs python code using LibCST"
      ]
    },
    {
      "attachments": {},
      "cell_type": "markdown",
      "metadata": {},
      "source": [
        "This plan for the notebook is to develop all the components necessary to construct a pipeline that\n",
        "starting from a python script, it extracts its Concrete Syntax Tree and use it to apply a sequence of revertable syntactical code-mutation to automatically generate training data for debugging language models.\n",
        "\n",
        "1. Tools to ensure that the sequence of modification is consistent and does not overwrite previously introduced mutations.\n",
        "2. Bugger class to store the local context of multiple bugs that can be applied in a chain.\n",
        "3. InverseTransformer class that is able to reverse the transformation of any other transformer sharing the same bugger context.\n",
        "4. 5/12 example LibCST transformers that can each implement a different logical bug.  \n",
        "5. Use the InverseTransformer to generate accurate debugging instructions to be used as training data for Large Language Models."
      ]
    },
    {
      "attachments": {},
      "cell_type": "markdown",
      "metadata": {},
      "source": [
        "## LibCST"
      ]
    },
    {
      "cell_type": "code",
      "execution_count": null,
      "metadata": {},
      "outputs": [],
      "source": [
        "from libcst.codemod import CodemodContext, Codemod\n",
        "from libcst.metadata import MetadataWrapper\n",
        "from libcst import Equal, GreaterThanEqual, GreaterThan, CSTNode, Module\n",
        "from typing import List\n",
        "from copy import deepcopy\n",
        "import libcst as cst\n",
        "from libcst.codemod import CodemodContext, ContextAwareTransformer, ContextAwareVisitor\n",
        "from libcst.metadata import BatchableMetadataProvider, PositionProvider, CodePosition, CodeRange\n",
        "import libcst.matchers as m\n",
        "import uuid"
      ]
    },
    {
      "attachments": {},
      "cell_type": "markdown",
      "metadata": {},
      "source": [
        "Useful LibCstDocs: \n",
        "\n",
        "https://libcst.readthedocs.io/en/latest/metadata.html#position-metadata\n",
        "\n",
        "https://libcst.readthedocs.io/en/latest/_modules/libcst/metadata/position_provider.html#PositionProvider\n",
        "\n",
        "https://libcst.readthedocs.io/en/latest/_modules/libcst/metadata/position_provider.html#WhitespaceInclusivePositionProvidingCodegenState\n",
        "\n",
        "\n",
        "https://libcst.readthedocs.io/en/latest/parser.html"
      ]
    },
    {
      "attachments": {},
      "cell_type": "markdown",
      "metadata": {},
      "source": [
        "## PositionContextUpdater and is_modified\n",
        "Because we want to apply potentially random changes to the code we need to introduce some simple helper methods, contained in the is_modified function that use the meta-data saved from transformers after modifyng a node to prevent any other transformer from applying further modifications to the either Node, its parent or its childrens. \n",
        "\n",
        "Since each node modification might introduce or remove code we also use the PositionContextUpdater to maintain the context scratch consistent after each mutation."
      ]
    },
    {
      "cell_type": "code",
      "execution_count": null,
      "metadata": {},
      "outputs": [],
      "source": [
        "from openbugger.context import is_modified, save_modified, is_parent_CodeRange, is_child_CodeRange, is_equal_Coderange, PositionContextUpdater"
      ]
    },
    {
      "attachments": {},
      "cell_type": "markdown",
      "metadata": {},
      "source": [
        "## Bugger and InverseTransformer"
      ]
    },
    {
      "cell_type": "code",
      "execution_count": null,
      "metadata": {},
      "outputs": [],
      "source": [
        "from openbugger.bugger import Bugger, TestTransformer, bugger_example, InverseTransformer"
      ]
    },
    {
      "attachments": {},
      "cell_type": "markdown",
      "metadata": {},
      "source": [
        "### Example Debugging Output Using the Test Tranformer"
      ]
    },
    {
      "cell_type": "code",
      "execution_count": null,
      "metadata": {},
      "outputs": [],
      "source": [
        "transformers = [TestTransformer]\n",
        "# Get the script as a string it should have  while loop and take multiple lines\n",
        "script = \"while x < y[10]:\\n\\tprint(x)\\n\\tx = x[2] + 1+y[2:10]\"\n",
        "bugger_example(transformers,script)\n"
      ]
    },
    {
      "attachments": {},
      "cell_type": "markdown",
      "metadata": {},
      "source": [
        "# Example Bugs \n",
        "\n",
        "In this section of the notebook we develop the 5/12 example bugs using LibCST ContextAwareTransformer that use the is_modified method to check if the node was already targeted by a mutation and then apply the mutation and save the mutation to the scratchpad using save_modified method.\n",
        "\n",
        "The bugs are:\n",
        "\n",
        "1. incorrect_comparison_operator - Done\n",
        "2. comparison_swap - Done\n",
        "3. forgetting_to_update_variable - Done\n",
        "4. infinite_loop - Done\n",
        "5. off_by_k_index - Done\n",
        "6. incorrect_return_value\n",
        "7. incorrect_boolean_operator\n",
        "8. using_wrong_type_of_loop\n",
        "9. using_loop_variable_outside_loop\n",
        "10. using_variable_before_assignment\n",
        "11. using_wrong_variable_scope\n",
        "12. incorrect_use_of_exception_handling\n",
        "13. incorrect_function_call\n",
        "\n",
        "The current approach only allows for the scratchpad context to be passed as initialization to the transformers, therefore we use generator functions for the bugs that could take multiple inputs like which operator to swap. These transformers apply the bug to ALL the target instances they find, we will derive some wrapper in the later part of the notebook to control the number of bugs or target a specific code-range."
      ]
    },
    {
      "attachments": {},
      "cell_type": "markdown",
      "metadata": {},
      "source": [
        "## LogicalBugs"
      ]
    },
    {
      "cell_type": "code",
      "execution_count": null,
      "metadata": {},
      "outputs": [],
      "source": [
        "from openbugger.bugs.logical import gen_ComparisonTargetTransfomer, ComparisonSwapTransformer"
      ]
    },
    {
      "attachments": {},
      "cell_type": "markdown",
      "metadata": {},
      "source": [
        "### Incorrect Comparison Operator\n",
        "This bug takes as input two libcst comparison operators and swaps every instance of the first for the second"
      ]
    },
    {
      "cell_type": "code",
      "execution_count": null,
      "metadata": {},
      "outputs": [],
      "source": [
        "transformers = [gen_ComparisonTargetTransfomer('==','!=')]\n",
        "# Get the script as a string\n",
        "script = \"x == 1 + 2 == 3 + 2 != 3 + 4 > 3\"\n",
        "\n",
        "bugger_example(transformers,script)"
      ]
    },
    {
      "attachments": {},
      "cell_type": "markdown",
      "metadata": {},
      "source": [
        "### Comparison Swap"
      ]
    },
    {
      "cell_type": "code",
      "execution_count": null,
      "metadata": {},
      "outputs": [],
      "source": [
        "transformers = [ComparisonSwapTransformer]\n",
        "# Get the script as a string\n",
        "script = \"x == 1 + 2 == 3 + 2 != 3 + 4 > 3 \"\n",
        "bugger_example(transformers,script)"
      ]
    },
    {
      "attachments": {},
      "cell_type": "markdown",
      "metadata": {},
      "source": [
        "## ControlFLow Bugs"
      ]
    },
    {
      "cell_type": "code",
      "execution_count": null,
      "metadata": {},
      "outputs": [],
      "source": [
        "from openbugger.bugs.controlflow import ForgettingToUpdateVariableTransformer, InfiniteWhileTransformer,gen_OffByKIndexTransformer"
      ]
    },
    {
      "attachments": {},
      "cell_type": "markdown",
      "metadata": {},
      "source": [
        "### ForgettingToUpdateVariable"
      ]
    },
    {
      "cell_type": "code",
      "execution_count": null,
      "metadata": {},
      "outputs": [],
      "source": [
        "transformers = [ForgettingToUpdateVariableTransformer]\n",
        "# Get the script as a string\n",
        "script = \"while x == 1 + 2 == 3 + 2 != 3 + 4 > 3 : \\n  y = 1 + 2\"\n",
        "bugger_example(transformers,script)"
      ]
    },
    {
      "attachments": {},
      "cell_type": "markdown",
      "metadata": {},
      "source": [
        "### Infinite While Loop"
      ]
    },
    {
      "cell_type": "code",
      "execution_count": null,
      "metadata": {},
      "outputs": [],
      "source": [
        "transformers = [InfiniteWhileTransformer]\n",
        "# Get the script as a string\n",
        "script = \"while x == 1 + 2 == 3 + 2 != 3 + 4 > 3: \\n  y = 1 + 2\"\n",
        "bugger_example(transformers,script)"
      ]
    },
    {
      "attachments": {},
      "cell_type": "markdown",
      "metadata": {},
      "source": [
        "### OffByKIndex "
      ]
    },
    {
      "cell_type": "code",
      "execution_count": null,
      "metadata": {},
      "outputs": [],
      "source": [
        "transformers = [gen_OffByKIndexTransformer(1)]\n",
        "# Get the script as a string\n",
        "script = \"while x == 1 + 2 == 3 + 2 != 3 + 4 > 3: \\n  y = 1 + 2\\nx[1:2]\\nx[1]\"\n",
        "bugger_example(transformers,script)"
      ]
    },
    {
      "attachments": {},
      "cell_type": "markdown",
      "metadata": {},
      "source": [
        "### Incorrect Exception Handling\n",
        "Catching the wrong exceptions, or incorrect use of the `try/except/finally` block."
      ]
    },
    {
      "cell_type": "code",
      "execution_count": null,
      "metadata": {},
      "outputs": [],
      "source": [
        "class IncorrectExceptionHandlerTransformer(ContextAwareTransformer):\n",
        "    METADATA_DEPENDENCIES = (PositionProvider,)\n",
        "    def __init__(self, context: CodemodContext):\n",
        "        super().__init__(context)\n",
        "        self.id = f\"{self.__class__.__name__}-{uuid.uuid4().hex[:4]}\"\n",
        "    def mutate(self, tree: cst.Module, reverse: bool = False) -> cst.Module:\n",
        "        return self.transform_module(tree)\n",
        "    def leave_ExceptHandler(self, original_node: cst.ExceptHandler, updated_node: cst.ExceptHandler) -> cst.ExceptHandler:\n",
        "        meta_pos = self.get_metadata(PositionProvider, original_node)\n",
        "        already_modified = is_modified(original_node,meta_pos,self.context)\n",
        "        if not already_modified:\n",
        "            updated_node = original_node.with_changes(type=None)\n",
        "            save_modified(self.context,meta_pos,original_node,updated_node,self.id)\n",
        "        return updated_node"
      ]
    },
    {
      "cell_type": "code",
      "execution_count": null,
      "metadata": {},
      "outputs": [],
      "source": [
        "script= \"\"\"try:\n",
        "    x = 1 / 0\n",
        "except ZeroDivisionError:\n",
        "    print('Zero division error!')\n",
        "\"\"\"\n",
        "expected_output= \"\"\"try:\n",
        "    x = 1 / 0\n",
        "except:\n",
        "    print('Zero division error!')\n",
        "\"\"\""
      ]
    },
    {
      "cell_type": "code",
      "execution_count": null,
      "metadata": {},
      "outputs": [],
      "source": [
        "transformers = [IncorrectExceptionHandlerTransformer]\n",
        "bugger_example(transformers,script)"
      ]
    },
    {
      "attachments": {},
      "cell_type": "markdown",
      "metadata": {},
      "source": [
        "### Missing Argument Transformer\n",
        "Calling functions in the wrong sequence."
      ]
    },
    {
      "cell_type": "code",
      "execution_count": null,
      "metadata": {},
      "outputs": [],
      "source": [
        "class MissingArgumentTransformer(ContextAwareTransformer):\n",
        "    METADATA_DEPENDENCIES = (PositionProvider,)\n",
        "    def __init__(self, context: CodemodContext):\n",
        "        super().__init__(context)\n",
        "        self.id = f\"{self.__class__.__name__}-{uuid.uuid4().hex[:4]}\"\n",
        "    def mutate(self, tree: cst.Module, reverse: bool = False) -> cst.Module:\n",
        "        self.reverse = reverse\n",
        "        return self.transform_module(tree)\n",
        "    def leave_Call(self, original_node: cst.Call, updated_node: cst.Call) -> cst.Call:\n",
        "        meta_pos = self.get_metadata(PositionProvider, original_node)\n",
        "        already_modified = is_modified(original_node,meta_pos,self.context)\n",
        "        if not already_modified and original_node.args:\n",
        "            updated_node = original_node.with_changes(args=original_node.args[:-1])\n",
        "            save_modified(self.context,meta_pos,original_node,updated_node,self.id)\n",
        "        return updated_node\n"
      ]
    },
    {
      "cell_type": "code",
      "execution_count": null,
      "metadata": {},
      "outputs": [],
      "source": [
        "script= \"\"\"print(str(123))\"\"\"\n",
        "expected_output = \"\"\"print(str())\"\"\"\n",
        "transformers = [MissingArgumentTransformer]\n",
        "bugger_example(transformers,script)\n"
      ]
    },
    {
      "attachments": {},
      "cell_type": "markdown",
      "metadata": {},
      "source": [
        "### ReturningEarly\n",
        "Returning from a function before all the necessary computations have been made."
      ]
    },
    {
      "cell_type": "code",
      "execution_count": null,
      "metadata": {},
      "outputs": [],
      "source": [
        "class ReturningEarlyTransformer(ContextAwareTransformer):\n",
        "    METADATA_DEPENDENCIES = (PositionProvider,)\n",
        "    def __init__(self, context: CodemodContext):\n",
        "        super().__init__(context)\n",
        "        self.id = f\"{self.__class__.__name__}-{uuid.uuid4().hex[:4]}\"\n",
        "    def mutate(self, tree: cst.Module, reverse: bool = False) -> cst.Module:\n",
        "        self.reverse = reverse\n",
        "        return self.transform_module(tree)\n",
        "    def leave_Return(self, original_node: cst.Return, updated_node: cst.Return) -> cst.Return:\n",
        "        meta_pos = self.get_metadata(PositionProvider, original_node)\n",
        "        already_modified = is_modified(original_node,meta_pos,self.context)\n",
        "        if not already_modified:\n",
        "            updated_node = cst.Return(value=None)\n",
        "            save_modified(self.context,meta_pos,original_node,updated_node,self.id)\n",
        "        return updated_node\n"
      ]
    },
    {
      "cell_type": "code",
      "execution_count": null,
      "metadata": {},
      "outputs": [],
      "source": [
        "script= \"\"\"def add(x, y):\n",
        "    return x + y\n",
        "    print('This will not be printed.')\n",
        "\"\"\"\n",
        "expected_output = \"\"\"def add(x, y):\n",
        "    return\n",
        "    print('This will not be printed.')\n",
        "\"\"\"\n",
        "transformers = [ReturningEarlyTransformer]\n",
        "bugger_example(transformers,script)"
      ]
    },
    {
      "attachments": {},
      "cell_type": "markdown",
      "metadata": {},
      "source": [
        "## Data Related Bugs"
      ]
    },
    {
      "attachments": {},
      "cell_type": "markdown",
      "metadata": {},
      "source": [
        "### Incorrect variable initialization\n",
        "Variables are initialized with incorrect values."
      ]
    },
    {
      "cell_type": "code",
      "execution_count": null,
      "metadata": {},
      "outputs": [],
      "source": [
        "import random\n",
        "\n",
        "DEFAULT_VALUES = {\n",
        "    int: [1, 2, 3, 4, 5],\n",
        "    str: ['foo', 'bar', 'baz'],\n",
        "    list: [[1, 2, 3], ['a', 'b', 'c'], []],\n",
        "    dict: [{'key': 'value'}, {}, {'num': 1, 'bool': False}],\n",
        "    bool: [True, False],\n",
        "    None: [None]\n",
        "}\n",
        "\n",
        "from libcst import matchers\n",
        "from libcst.metadata import ParentNodeProvider\n",
        "\n",
        "\n",
        "class IncorrectVariableInitializationTransformer(ContextAwareTransformer):\n",
        "    METADATA_DEPENDENCIES = (PositionProvider, ParentNodeProvider)\n",
        "\n",
        "    def __init__(self, context: CodemodContext):\n",
        "        super().__init__(context)\n",
        "        self.id = f\"{self.__class__.__name__}-{uuid.uuid4().hex[:4]}\"\n",
        "\n",
        "    def mutate(self, tree: cst.Module, reverse: bool = False) -> cst.Module:\n",
        "        return self.transform_module(tree)\n",
        "\n",
        "    def leave_Assign(self, original_node: cst.Assign, updated_node: cst.Assign) -> cst.Assign:\n",
        "        meta_pos = self.get_metadata(PositionProvider, original_node)\n",
        "        already_modified = is_modified(original_node,meta_pos,self.context)\n",
        "        if not already_modified:\n",
        "            if matchers.matches(updated_node.value, matchers.SimpleString()):\n",
        "                old_value = updated_node.value.value\n",
        "                old_value_type = str\n",
        "            elif matchers.matches(updated_node.value, matchers.Integer()):\n",
        "                old_value = int(updated_node.value.value)\n",
        "                old_value_type = int\n",
        "            elif matchers.matches(updated_node.value, matchers.Float()):\n",
        "                old_value = float(updated_node.value.value)\n",
        "                old_value_type = float\n",
        "            elif matchers.matches(updated_node.value, matchers.Name()):\n",
        "                old_value = updated_node.value.value\n",
        "                if old_value == \"True\" or old_value == \"False\":\n",
        "                    old_value_type = bool\n",
        "                elif old_value == \"None\":\n",
        "                    old_value_type = type(None)\n",
        "                else:\n",
        "                    return updated_node\n",
        "            else:\n",
        "                return updated_node\n",
        "\n",
        "            new_value = random.choice(DEFAULT_VALUES.get(old_value_type, [0]))\n",
        "            \n",
        "            if old_value_type == str:\n",
        "                new_value = f'\"{new_value}\"'\n",
        "\n",
        "            updated_node = original_node.with_changes(value=cst.parse_expression(str(new_value)))\n",
        "            save_modified(self.context,meta_pos,original_node,updated_node,self.id)\n",
        "        return updated_node\n",
        "    \n",
        "    def leave_List(self, original_node: cst.List, updated_node: cst.List) -> cst.List:\n",
        "        meta_pos = self.get_metadata(PositionProvider, original_node)\n",
        "        already_modified = is_modified(original_node,meta_pos,self.context)\n",
        "        \n",
        "        parent_node = self.get_metadata(ParentNodeProvider, original_node)\n",
        "        if isinstance(parent_node, cst.Assign):\n",
        "            if not already_modified and len(updated_node.elements) > 0:\n",
        "                idx = random.randint(0, len(updated_node.elements)-1)\n",
        "                new_value = random.choice(DEFAULT_VALUES.get(int, [0]))\n",
        "                updated_elements = list(updated_node.elements)\n",
        "                updated_elements[idx] = updated_elements[idx].with_changes(value=cst.Integer(str(new_value)))\n",
        "                updated_node = updated_node.with_changes(elements=tuple(updated_elements))\n",
        "                save_modified(self.context,meta_pos,original_node,updated_node,self.id)\n",
        "        return updated_node\n",
        "    \n",
        "    def leave_Dict(self, original_node: cst.Dict, updated_node: cst.Dict) -> cst.Dict:\n",
        "        meta_pos = self.get_metadata(PositionProvider, original_node)\n",
        "        already_modified = is_modified(original_node, meta_pos, self.context)\n",
        "\n",
        "        parent_node = self.get_metadata(ParentNodeProvider, original_node)\n",
        "        if isinstance(parent_node, cst.Assign):\n",
        "            if not already_modified and len(updated_node.elements) > 0:\n",
        "                idx = random.randint(0, len(updated_node.elements) - 1)\n",
        "                old_element = updated_node.elements[idx]\n",
        "\n",
        "                if isinstance(old_element, cst.DictElement):\n",
        "                    new_value = random.choice(DEFAULT_VALUES.get(str, [\"foo\", \"bar\", \"baz\"]))\n",
        "                    updated_element = old_element.with_changes(value=cst.SimpleString(f'\"{new_value}\"'))\n",
        "\n",
        "                    updated_elements = list(updated_node.elements)\n",
        "                    updated_elements[idx] = updated_element\n",
        "                    updated_node = updated_node.with_changes(elements=tuple(updated_elements))\n",
        "                    save_modified(self.context, meta_pos, original_node, updated_node, self.id)\n",
        "        return updated_node\n",
        "\n",
        "\n"
      ]
    },
    {
      "cell_type": "code",
      "execution_count": null,
      "metadata": {},
      "outputs": [],
      "source": [
        "script = \"\"\"var1 = 5\n",
        "var2 = \"hello\"\n",
        "var3 = [1, 2, 3]\n",
        "var4 = {\"key\": \"value\"}\n",
        "var5 = True\n",
        "var6 = None\n",
        "\"\"\"\n",
        "possible_output = \"\"\"var1 = 2\n",
        "var2 = \"bar\"\n",
        "var3 = ['a', 'b', 'c']\n",
        "var4 = {}\n",
        "var5 = False\n",
        "var6 = None\n",
        "\"\"\"\n",
        "transformers = [IncorrectVariableInitializationTransformer]\n",
        "bugger_example(transformers,script)"
      ]
    },
    {
      "attachments": {},
      "cell_type": "markdown",
      "metadata": {},
      "source": [
        "### Variable Name Typo\n",
        "Mistyping the names of variables, causing them to be treated as new, uninitialized variables."
      ]
    },
    {
      "cell_type": "code",
      "execution_count": 26,
      "metadata": {},
      "outputs": [],
      "source": [
        "from libcst import matchers as m\n",
        "\n",
        "class VariableNameTypoTransformer(ContextAwareTransformer):\n",
        "    METADATA_DEPENDENCIES = (PositionProvider,)\n",
        "\n",
        "    def __init__(self, context: CodemodContext):\n",
        "        super().__init__(context)\n",
        "        self.id = f\"{self.__class__.__name__}-{uuid.uuid4().hex[:4]}\"\n",
        "        self.seen_variables = set()\n",
        "\n",
        "    def mutate(self, tree: cst.Module, reverse: bool = False) -> cst.Module:\n",
        "        return self.transform_module(tree)\n",
        "\n",
        "    def leave_Assign(self, original_node: cst.Assign, updated_node: cst.Assign) -> cst.Assign:\n",
        "        meta_pos = self.get_metadata(PositionProvider, original_node)\n",
        "        already_modified = is_modified(original_node, meta_pos, self.context)\n",
        "\n",
        "        if not already_modified:\n",
        "            targets = []\n",
        "            for target in original_node.targets:\n",
        "                if isinstance(target.target, cst.Name):\n",
        "                    var_name = target.target.value\n",
        "                    self.seen_variables.add(var_name)\n",
        "                    extra_character = random.choice(list(self.seen_variables)) if self.seen_variables else ''\n",
        "                    new_name = cst.Name(var_name + extra_character)\n",
        "                    target = target.with_changes(target=new_name)\n",
        "                targets.append(target)\n",
        "            updated_node = original_node.with_changes(targets=targets)\n",
        "            save_modified(self.context, meta_pos, original_node, updated_node, self.id)\n",
        "        return updated_node\n"
      ]
    },
    {
      "cell_type": "code",
      "execution_count": 27,
      "metadata": {},
      "outputs": [
        {
          "name": "stdout",
          "output_type": "stream",
          "text": [
            "original_code\n",
            "var1 = 5\n",
            "var2 = \"hello\"\n",
            "var1 = var2\n",
            "\n",
            "tainted_code\n",
            "var1var1 = 5\n",
            "var2var1 = \"hello\"\n",
            "var1var1 = var2\n",
            "\n",
            "The result of deep_equals between the concrete syntax tree of the original and the bugged code is False\n",
            "Checking for bugs...\n",
            "The following Node has a bug of type VariableNameTypoTransformer-1322 starting at line 1, column 0 and ending at line 1, column 12.\n",
            "The bug can be fixed by substituting the bugged code-string <var1var1 = 5> with the following code-string <var1 = 5>\n",
            "The following Node has a bug of type VariableNameTypoTransformer-1322 starting at line 2, column 0 and ending at line 2, column 18.\n",
            "The bug can be fixed by substituting the bugged code-string <var2var1 = \"hello\"> with the following code-string <var2 = \"hello\">\n",
            "The following Node has a bug of type VariableNameTypoTransformer-1322 starting at line 3, column 0 and ending at line 3, column 15.\n",
            "The bug can be fixed by substituting the bugged code-string <var1var1 = var2> with the following code-string <var1 = var2>\n",
            "Debugging...\n",
            "clean_code\n",
            "var1 = 5\n",
            "var2 = \"hello\"\n",
            "var1 = var2\n",
            "\n",
            "Checking if the debugged code is equal to the original code..\n",
            "The result of deep_equals between the concrete syntax tree of the original and debugged code is True\n"
          ]
        }
      ],
      "source": [
        "script = \"\"\"var1 = 5\n",
        "var2 = \"hello\"\n",
        "var1 = var2\n",
        "\"\"\"\n",
        "possible_output = \"\"\"var1 = 5\n",
        "var2 = \"hello\"\n",
        "var1_var2 = var2\n",
        "\"\"\"\n",
        "transformers = [VariableNameTypoTransformer]\n",
        "bugger_example(transformers,script)"
      ]
    },
    {
      "attachments": {},
      "cell_type": "markdown",
      "metadata": {},
      "source": [
        "### Mutable Default Arguments\n",
        "Using mutable types (like lists or dictionaries) as default function arguments."
      ]
    },
    {
      "cell_type": "code",
      "execution_count": 42,
      "metadata": {},
      "outputs": [],
      "source": [
        "from typing import Optional\n",
        "class MutableDefaultArgumentTransformer(ContextAwareTransformer):\n",
        "    METADATA_DEPENDENCIES = (PositionProvider,)\n",
        "\n",
        "    def __init__(self, context: CodemodContext):\n",
        "        super().__init__(context)\n",
        "        self.id = f\"{self.__class__.__name__}-{uuid.uuid4().hex[:4]}\"\n",
        "        self.used_variables = set()\n",
        "        self.first_pass = True\n",
        "\n",
        "    def visit_Name(self, node: cst.Name) -> Optional[bool]:\n",
        "        # During the first pass, record all the variable names used in the module\n",
        "        if self.first_pass:\n",
        "            self.used_variables.add(node.value)\n",
        "        return None\n",
        "\n",
        "    def leave_FunctionDef(\n",
        "        self, original_node: cst.FunctionDef, updated_node: cst.FunctionDef\n",
        "    ) -> cst.FunctionDef:\n",
        "        # Only modify function definitions during the second pass\n",
        "        if not self.first_pass and self.used_variables:\n",
        "            # Choose one of the used variables to replace with a mutable default argument\n",
        "            variable_to_replace = self.used_variables.pop()\n",
        "            \n",
        "            # Build new parameters, replacing the chosen variable with a mutable default argument\n",
        "            new_params_list = []\n",
        "            for param in updated_node.params.params:\n",
        "                if isinstance(param, cst.Param) and param.name.value == variable_to_replace:\n",
        "                    new_params_list.append(cst.Param(name=param.name, default=cst.List([])))\n",
        "                else:\n",
        "                    new_params_list.append(param)\n",
        "            new_params = cst.Parameters(params=new_params_list)\n",
        "            \n",
        "            # Build a new function body that modifies the mutable default argument\n",
        "            assignment = cst.parse_statement(f\"{variable_to_replace}.append(1)\")\n",
        "\n",
        "            # If the body is non-empty, insert the assignment before the last statement. \n",
        "            # Otherwise, add the assignment as the only statement.\n",
        "            if updated_node.body.body:\n",
        "                new_body = cst.IndentedBlock(\n",
        "                    body=list(updated_node.body.body[:-1]) + [assignment] + [updated_node.body.body[-1]]\n",
        "                )\n",
        "            else:\n",
        "                new_body = cst.IndentedBlock(\n",
        "                    body=[assignment]\n",
        "                )\n",
        "\n",
        "            # Return the updated function definition\n",
        "            return updated_node.with_changes(params=new_params, body=new_body)\n",
        "        return updated_node\n",
        "\n",
        "\n",
        "\n",
        "\n",
        "    def mutate(self, tree: cst.Module, reverse: bool = False) -> cst.Module:\n",
        "        # First pass: collect variable names\n",
        "        self.first_pass = True\n",
        "        self.transform_module(tree)\n",
        "        # Second pass: introduce bugs\n",
        "        self.first_pass = False\n",
        "        return self.transform_module(tree)\n"
      ]
    },
    {
      "cell_type": "code",
      "execution_count": 44,
      "metadata": {},
      "outputs": [
        {
          "name": "stdout",
          "output_type": "stream",
          "text": [
            "original_code\n",
            "def func1(arg1, arg2,arg3):\n",
            "    return arg1 + arg2\n",
            "tainted_code\n",
            "def func1(arg1, arg2,arg3 = []):\n",
            "    arg3.append(1)\n",
            "    return arg1 + arg2\n",
            "The result of deep_equals between the concrete syntax tree of the original and the bugged code is False\n",
            "Checking for bugs...\n",
            "Debugging...\n",
            "clean_code\n",
            "def func1(arg1, arg2,arg3 = []):\n",
            "    arg3.append(1)\n",
            "    return arg1 + arg2\n",
            "Checking if the debugged code is equal to the original code..\n",
            "The result of deep_equals between the concrete syntax tree of the original and debugged code is False\n"
          ]
        }
      ],
      "source": [
        "script = \"\"\"def func1(arg1, arg2):\n",
        "    return arg1 + arg2\"\"\"\n",
        "expected_output = \"\"\"def func1(arg1, arg2, mutable_default_arg=[]):\n",
        "    return arg1 + arg2\"\"\"\n",
        "transformers = [MutableDefaultArgumentTransformer]\n",
        "bugger_example(transformers,script)"
      ]
    },
    {
      "attachments": {},
      "cell_type": "markdown",
      "metadata": {},
      "source": [
        "## Chaining Multiple Bugs\n",
        "\n",
        "Bugs can be chained in a sequence and they are executed in an order, bugs do not modify nodes that have already been modified or that either their children or parent has been modified. As an example we are going to all InfiniteWhiletransformer, OffByKIndexTransformer and ComparisonTargetTransfomer over the script:\n",
        "\n",
        "while x == 1 + 2 == 3 + 2 != 3 + 4 > z[4]:  y = 1 + 2\\nx[1:2]\\nx[1]\\nx[1]==3 \n",
        "\n",
        "Comparison target and OffByKIndex only modify targets that are outside the while target statement."
      ]
    },
    {
      "cell_type": "code",
      "execution_count": null,
      "metadata": {},
      "outputs": [],
      "source": [
        "transformers = [InfiniteWhileTransformer,gen_OffByKIndexTransformer(1),gen_ComparisonTargetTransfomer(\"==\",\">=\")]\n",
        "# Get the script as a string\n",
        "script = \"while x == 1 + 2 == 3 + 2 != 3 + 4 > 3: \\n  y = 1 + 2\\nx[1:2]\\nx[1]\\nx[1]==3\"\n",
        "bugger_example(transformers,script)"
      ]
    }
  ],
  "metadata": {
    "colab": {
      "provenance": []
    },
    "kernelspec": {
      "display_name": "Python 3",
      "language": "python",
      "name": "python3"
    },
    "language_info": {
      "codemirror_mode": {
        "name": "ipython",
        "version": 3
      },
      "file_extension": ".py",
      "mimetype": "text/x-python",
      "name": "python",
      "nbconvert_exporter": "python",
      "pygments_lexer": "ipython3",
      "version": "3.10.6"
    },
    "orig_nbformat": 4,
    "vscode": {
      "interpreter": {
        "hash": "ceba285e8b4e6478fe8ad229bc63940a90ad5cf3d143521e7c38823a2e915b21"
      }
    }
  },
  "nbformat": 4,
  "nbformat_minor": 0
}
