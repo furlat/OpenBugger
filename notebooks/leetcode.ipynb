{
 "cells": [
  {
   "cell_type": "code",
   "execution_count": 1,
   "metadata": {},
   "outputs": [
    {
     "data": {
      "application/vnd.jupyter.widget-view+json": {
       "model_id": "9a9bfd566d3e400492d4b4759fab7a4a",
       "version_major": 2,
       "version_minor": 0
      },
      "text/plain": [
       "Downloading readme:   0%|          | 0.00/488 [00:00<?, ?B/s]"
      ]
     },
     "metadata": {},
     "output_type": "display_data"
    },
    {
     "name": "stdout",
     "output_type": "stream",
     "text": [
      "Downloading and preparing dataset json/mhhmm--leetcode-solutions-python to C:/Users/Tommaso/.cache/huggingface/datasets/mhhmm___json/mhhmm--leetcode-solutions-python-c6d2758e3a6cc905/0.0.0/e347ab1c932092252e717ff3f949105a4dd28b27e842dd53157d2f72e276c2e4...\n"
     ]
    },
    {
     "data": {
      "application/vnd.jupyter.widget-view+json": {
       "model_id": "d2dca4a6d3d44996ab7a02f24aa02b5c",
       "version_major": 2,
       "version_minor": 0
      },
      "text/plain": [
       "Downloading data files:   0%|          | 0/1 [00:00<?, ?it/s]"
      ]
     },
     "metadata": {},
     "output_type": "display_data"
    },
    {
     "data": {
      "application/vnd.jupyter.widget-view+json": {
       "model_id": "1df57ba110744de6b7b0cf962f75067a",
       "version_major": 2,
       "version_minor": 0
      },
      "text/plain": [
       "Downloading data:   0%|          | 0.00/13.5M [00:00<?, ?B/s]"
      ]
     },
     "metadata": {},
     "output_type": "display_data"
    },
    {
     "data": {
      "application/vnd.jupyter.widget-view+json": {
       "model_id": "6485f21f334347f999a345eabfb4c96f",
       "version_major": 2,
       "version_minor": 0
      },
      "text/plain": [
       "Extracting data files:   0%|          | 0/1 [00:00<?, ?it/s]"
      ]
     },
     "metadata": {},
     "output_type": "display_data"
    },
    {
     "data": {
      "application/vnd.jupyter.widget-view+json": {
       "model_id": "02787ce9193c4676948484196a9ca71f",
       "version_major": 2,
       "version_minor": 0
      },
      "text/plain": [
       "Generating train split: 0 examples [00:00, ? examples/s]"
      ]
     },
     "metadata": {},
     "output_type": "display_data"
    },
    {
     "name": "stdout",
     "output_type": "stream",
     "text": [
      "Dataset json downloaded and prepared to C:/Users/Tommaso/.cache/huggingface/datasets/mhhmm___json/mhhmm--leetcode-solutions-python-c6d2758e3a6cc905/0.0.0/e347ab1c932092252e717ff3f949105a4dd28b27e842dd53157d2f72e276c2e4. Subsequent calls will reuse this data.\n"
     ]
    }
   ],
   "source": [
    "from datasets import load_dataset\n",
    "docs = load_dataset(f\"mhhmm/leetcode-solutions-python\", split=\"train\")"
   ]
  },
  {
   "cell_type": "code",
   "execution_count": 2,
   "metadata": {},
   "outputs": [
    {
     "data": {
      "text/plain": [
       "['id', 'code_only', 'code_with_problem', 'code_with_data', 'explanation_only']"
      ]
     },
     "execution_count": 2,
     "metadata": {},
     "output_type": "execute_result"
    }
   ],
   "source": [
    "docs.column_names"
   ]
  },
  {
   "cell_type": "code",
   "execution_count": 3,
   "metadata": {},
   "outputs": [
    {
     "data": {
      "text/plain": [
       "(2359, 5)"
      ]
     },
     "execution_count": 3,
     "metadata": {},
     "output_type": "execute_result"
    }
   ],
   "source": [
    "docs.shape"
   ]
  },
  {
   "cell_type": "code",
   "execution_count": 9,
   "metadata": {},
   "outputs": [
    {
     "data": {
      "text/plain": [
       "'```python\\nclass ListNode:\\n    def __init__(self, val=0, next=None):\\n        self.val = val\\n        self.next = next\\n\\ndef addTwoNumbers(l1, l2):\\n    dummy = ListNode(0)\\n    current = dummy\\n    carry = 0\\n\\n    while l1 or l2 or carry:\\n        sum_val = (l1.val if l1 else 0) + (l2.val if l2 else 0) + carry\\n        carry = sum_val // 10\\n        current.next = ListNode(sum_val % 10)\\n        current = current.next\\n\\n        if l1: l1 = l1.next\\n        if l2: l2 = l2.next\\n\\n    return dummy.next\\n```\\n\\n'"
      ]
     },
     "execution_count": 9,
     "metadata": {},
     "output_type": "execute_result"
    }
   ],
   "source": [
    "docs[\"code_only\"][1]"
   ]
  },
  {
   "cell_type": "code",
   "execution_count": 18,
   "metadata": {},
   "outputs": [],
   "source": [
    "import libcst as cst\n",
    "import re"
   ]
  },
  {
   "cell_type": "code",
   "execution_count": 12,
   "metadata": {},
   "outputs": [
    {
     "ename": "NameError",
     "evalue": "name 'cst' is not defined",
     "output_type": "error",
     "traceback": [
      "\u001b[1;31m---------------------------------------------------------------------------\u001b[0m",
      "\u001b[1;31mNameError\u001b[0m                                 Traceback (most recent call last)",
      "Cell \u001b[1;32mIn[12], line 1\u001b[0m\n\u001b[1;32m----> 1\u001b[0m cst_tree \u001b[39m=\u001b[39m cst\u001b[39m.\u001b[39mparse_module(clean_code)\n",
      "\u001b[1;31mNameError\u001b[0m: name 'cst' is not defined"
     ]
    }
   ],
   "source": [
    "split_doc = doc.split('```python')"
   ]
  },
  {
   "cell_type": "code",
   "execution_count": 29,
   "metadata": {},
   "outputs": [],
   "source": [
    "code_list = []\n",
    "problem_list = []\n",
    "data_list = []\n",
    "cst_list = []\n",
    "bad_code = []\n",
    "explanation_list = []\n",
    "for code_with_data,code_with_problem,code,explanation in zip(docs[\"code_with_data\"],docs[\"code_with_problem\"],docs[\"code_only\"],docs[\"explanation_only\"]):\n",
    "    #remove ```python and ``` at the end \n",
    "    good_code= False\n",
    "    clean_code = re.sub(r'```python', '', code)\n",
    "    clean_code = re.sub(r'```.*', '', clean_code).strip()\n",
    "\n",
    "    split_data = code_with_data.split('```python')\n",
    "    split_problem = code_with_problem.split('```python')\n",
    "    if len(split_data) > 1 and len(split_problem) > 1:\n",
    "        data = split_data[0]\n",
    "        problem = split_problem[0]\n",
    "        \n",
    "        try:\n",
    "            cst_tree = cst.parse_module(clean_code)\n",
    "            good_code = True\n",
    "            code_list.append(clean_code)\n",
    "            cst_list.append(cst_tree)\n",
    "            data_list.append(data)\n",
    "            problem_list.append(problem)\n",
    "            explanation_list.append(explanation)\n",
    "        except:\n",
    "            bad_code.append(clean_code)"
   ]
  },
  {
   "cell_type": "code",
   "execution_count": 30,
   "metadata": {},
   "outputs": [
    {
     "name": "stdout",
     "output_type": "stream",
     "text": [
      "2348 2348 2348 2348 2 2348\n"
     ]
    }
   ],
   "source": [
    "print(len(code_list),len(cst_list),len(data_list),len(problem_list),len(bad_code),len(explanation_list))"
   ]
  },
  {
   "cell_type": "code",
   "execution_count": 35,
   "metadata": {},
   "outputs": [],
   "source": [
    "#import all bugs from openbugger\n",
    "from openbugger.bugs.controlflow import ForgettingToUpdateVariableTransformer, InfiniteWhileTransformer, gen_OffByKIndexTransformer\n",
    "from openbugger.bugs.data import IncorrectVariableInitializationTransformer, VariableNameTypoTransformer, MutableDefaultArgumentTransformer, UseBeforeDefinitionTransformer\n",
    "from openbugger.bugs.logical import gen_ComparisonTargetTransfomer, ComparisonSwapTransformer\n",
    "from openbugger.bugs.type import IncorrectTypeTransformer, NonExistingMethodTransformer, SwapForTransformer\n",
    "from openbugger.bugs.numpy import NumpyArrayCreationTransformer, NumpyMethodMisuseTransformer, NumpyReshapeMisuseTransformer, NumpyArangeMisuseTransformer, NumpyAxisMisuseTransformer"
   ]
  },
  {
   "cell_type": "code",
   "execution_count": 36,
   "metadata": {},
   "outputs": [],
   "source": [
    "#create a dictionary where keys are bugs type and values are the bug classes\n",
    "bug_dict = {\"controlflow\":[ForgettingToUpdateVariableTransformer, InfiniteWhileTransformer, gen_OffByKIndexTransformer],\n",
    "            \"data\":[IncorrectVariableInitializationTransformer, VariableNameTypoTransformer, MutableDefaultArgumentTransformer, UseBeforeDefinitionTransformer],\n",
    "            \"logical\":[gen_ComparisonTargetTransfomer, ComparisonSwapTransformer],\n",
    "            \"type\":[IncorrectTypeTransformer, NonExistingMethodTransformer, SwapForTransformer],\n",
    "            \"numpy\":[NumpyArrayCreationTransformer, NumpyMethodMisuseTransformer, NumpyReshapeMisuseTransformer, NumpyArangeMisuseTransformer, NumpyAxisMisuseTransformer]}\n"
   ]
  },
  {
   "cell_type": "code",
   "execution_count": 37,
   "metadata": {},
   "outputs": [],
   "source": [
    "from openbugger.bugger import Bugger"
   ]
  },
  {
   "cell_type": "code",
   "execution_count": null,
   "metadata": {},
   "outputs": [],
   "source": []
  }
 ],
 "metadata": {
  "kernelspec": {
   "display_name": "Python 3",
   "language": "python",
   "name": "python3"
  },
  "language_info": {
   "codemirror_mode": {
    "name": "ipython",
    "version": 3
   },
   "file_extension": ".py",
   "mimetype": "text/x-python",
   "name": "python",
   "nbconvert_exporter": "python",
   "pygments_lexer": "ipython3",
   "version": "3.10.6"
  },
  "orig_nbformat": 4
 },
 "nbformat": 4,
 "nbformat_minor": 2
}
