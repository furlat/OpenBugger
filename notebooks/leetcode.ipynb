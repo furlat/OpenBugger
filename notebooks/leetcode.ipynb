{
 "cells": [
  {
   "cell_type": "code",
   "execution_count": 1,
   "metadata": {},
   "outputs": [
    {
     "name": "stderr",
     "output_type": "stream",
     "text": [
      "Found cached dataset json (C:/Users/Tommaso/.cache/huggingface/datasets/mhhmm___json/mhhmm--leetcode-solutions-python-c6d2758e3a6cc905/0.0.0/e347ab1c932092252e717ff3f949105a4dd28b27e842dd53157d2f72e276c2e4)\n"
     ]
    }
   ],
   "source": [
    "from datasets import load_dataset\n",
    "docs = load_dataset(f\"mhhmm/leetcode-solutions-python\", split=\"train\")"
   ]
  },
  {
   "cell_type": "code",
   "execution_count": 2,
   "metadata": {},
   "outputs": [
    {
     "data": {
      "text/plain": [
       "['id', 'code_only', 'code_with_problem', 'code_with_data', 'explanation_only']"
      ]
     },
     "execution_count": 2,
     "metadata": {},
     "output_type": "execute_result"
    }
   ],
   "source": [
    "docs.column_names"
   ]
  },
  {
   "cell_type": "code",
   "execution_count": 3,
   "metadata": {},
   "outputs": [
    {
     "data": {
      "text/plain": [
       "(2359, 5)"
      ]
     },
     "execution_count": 3,
     "metadata": {},
     "output_type": "execute_result"
    }
   ],
   "source": [
    "docs.shape"
   ]
  },
  {
   "cell_type": "code",
   "execution_count": 4,
   "metadata": {},
   "outputs": [
    {
     "data": {
      "text/plain": [
       "'```python\\nclass ListNode:\\n    def __init__(self, val=0, next=None):\\n        self.val = val\\n        self.next = next\\n\\ndef addTwoNumbers(l1, l2):\\n    dummy = ListNode(0)\\n    current = dummy\\n    carry = 0\\n\\n    while l1 or l2 or carry:\\n        sum_val = (l1.val if l1 else 0) + (l2.val if l2 else 0) + carry\\n        carry = sum_val // 10\\n        current.next = ListNode(sum_val % 10)\\n        current = current.next\\n\\n        if l1: l1 = l1.next\\n        if l2: l2 = l2.next\\n\\n    return dummy.next\\n```\\n\\n'"
      ]
     },
     "execution_count": 4,
     "metadata": {},
     "output_type": "execute_result"
    }
   ],
   "source": [
    "docs[\"code_only\"][1]"
   ]
  },
  {
   "cell_type": "code",
   "execution_count": 5,
   "metadata": {},
   "outputs": [],
   "source": [
    "import libcst as cst\n",
    "import re\n",
    "import random\n",
    "from openbugger.bugger import Bugger, bugger_example\n",
    "from time import perf_counter"
   ]
  },
  {
   "cell_type": "code",
   "execution_count": 6,
   "metadata": {},
   "outputs": [],
   "source": [
    "#import all bugs from openbugger\n",
    "from openbugger.bugs.controlflow import ForgettingToUpdateVariableTransformer, InfiniteWhileTransformer, gen_OffByKIndexTransformer, IncorrectExceptionHandlerTransformer,MissingArgumentTransformer,ReturningEarlyTransformer\n",
    "from openbugger.bugs.data import IncorrectVariableInitializationTransformer, VariableNameTypoTransformer, MutableDefaultArgumentTransformer, UseBeforeDefinitionTransformer\n",
    "from openbugger.bugs.logical import gen_ComparisonTargetTransfomer, ComparisonSwapTransformer\n",
    "from openbugger.bugs.type import IncorrectTypeTransformer, NonExistingMethodTransformer, SwapForTransformer\n",
    "from openbugger.bugs.numpy import NumpyArrayCreationTransformer, NumpyMethodMisuseTransformer, NumpyReshapeMisuseTransformer, NumpyArangeMisuseTransformer, NumpyAxisMisuseTransformer"
   ]
  },
  {
   "cell_type": "code",
   "execution_count": 7,
   "metadata": {},
   "outputs": [
    {
     "data": {
      "text/plain": [
       "'while x == 1 + 2 == 3 + 2 != 3 + 4 > 3: \\n  y = 1 + 2\\nx[1:2]\\nx[2]'"
      ]
     },
     "execution_count": 7,
     "metadata": {},
     "output_type": "execute_result"
    }
   ],
   "source": [
    "transformers = [gen_OffByKIndexTransformer(1)]\n",
    "# Get the script as a string\n",
    "script = \"while x == 1 + 2 == 3 + 2 != 3 + 4 > 3: \\n  y = 1 + 2\\nx[1:2]\\nx[1]\"\n",
    "bugger = Bugger(transformers)\n",
    "# Parse the script into a CST\n",
    "module = cst.parse_module(script)\n",
    "\n",
    "tainted = bugger.transformers[0].mutate(module)\n",
    "tainted.code\n",
    "# clean = bugger.apply(tainted,debug=True"
   ]
  },
  {
   "cell_type": "code",
   "execution_count": 8,
   "metadata": {},
   "outputs": [],
   "source": [
    "code_list = []\n",
    "problem_list = []\n",
    "data_list = []\n",
    "cst_list = []\n",
    "bad_code = []\n",
    "explanation_list = []\n",
    "for code_with_data,code_with_problem,code,explanation in zip(docs[\"code_with_data\"],docs[\"code_with_problem\"],docs[\"code_only\"],docs[\"explanation_only\"]):\n",
    "    #remove ```python and ``` at the end \n",
    "    good_code= False\n",
    "    clean_code = re.sub(r'```python', '', code)\n",
    "    clean_code = re.sub(r'```.*', '', clean_code).strip()\n",
    "\n",
    "    split_data = code_with_data.split('```python')\n",
    "    split_problem = code_with_problem.split('```python')\n",
    "    if len(split_data) > 1 and len(split_problem) > 1:\n",
    "        data = split_data[0]\n",
    "        problem = split_problem[0]\n",
    "        \n",
    "        try:\n",
    "            cst_tree = cst.parse_module(clean_code)\n",
    "            good_code = True\n",
    "            code_list.append(clean_code)\n",
    "            cst_list.append(cst_tree)\n",
    "            data_list.append(data)\n",
    "            problem_list.append(problem)\n",
    "            explanation_list.append(explanation)\n",
    "        except:\n",
    "            bad_code.append(clean_code)"
   ]
  },
  {
   "cell_type": "code",
   "execution_count": 9,
   "metadata": {},
   "outputs": [
    {
     "name": "stdout",
     "output_type": "stream",
     "text": [
      "2348 2348 2348 2348 2 2348\n"
     ]
    }
   ],
   "source": [
    "print(len(code_list),len(cst_list),len(data_list),len(problem_list),len(bad_code),len(explanation_list))"
   ]
  },
  {
   "cell_type": "code",
   "execution_count": null,
   "metadata": {},
   "outputs": [],
   "source": []
  },
  {
   "cell_type": "code",
   "execution_count": 10,
   "metadata": {},
   "outputs": [],
   "source": [
    "#create a dictionary where keys are bugs type and values are the bug classes\n",
    "bug_dict = {\"controlflow\":[ForgettingToUpdateVariableTransformer, InfiniteWhileTransformer, gen_OffByKIndexTransformer(),IncorrectExceptionHandlerTransformer,MissingArgumentTransformer,ReturningEarlyTransformer],\n",
    "            \"data\":[IncorrectVariableInitializationTransformer, VariableNameTypoTransformer, MutableDefaultArgumentTransformer, UseBeforeDefinitionTransformer],\n",
    "            \"logical\":[gen_ComparisonTargetTransfomer(), ComparisonSwapTransformer],\n",
    "            \"type\":[IncorrectTypeTransformer, NonExistingMethodTransformer, SwapForTransformer],\n",
    "            \"numpy\":[NumpyArrayCreationTransformer, NumpyMethodMisuseTransformer, NumpyReshapeMisuseTransformer, NumpyArangeMisuseTransformer, NumpyAxisMisuseTransformer]}\n",
    "def sample_bug(bug_dict):\n",
    "    # Select a random bug type\n",
    "    bug_type = random.choice(list(bug_dict.keys()))\n",
    "    # Select a random bug from the chosen type\n",
    "    bug_class = random.choice(bug_dict[bug_type])\n",
    "    return bug_type, bug_class"
   ]
  },
  {
   "cell_type": "code",
   "execution_count": 11,
   "metadata": {},
   "outputs": [],
   "source": [
    "\n",
    "#sample a random from code_list and applies bugger_example\n",
    "random_script = random.sample(code_list,1)[0]"
   ]
  },
  {
   "cell_type": "code",
   "execution_count": 12,
   "metadata": {},
   "outputs": [],
   "source": [
    "tainted = bugger.transformers[0].mutate(module)"
   ]
  },
  {
   "cell_type": "code",
   "execution_count": 13,
   "metadata": {},
   "outputs": [
    {
     "data": {
      "text/plain": [
       "'while x == 1 + 2 == 3 + 2 != 3 + 4 > 3: \\n  y = 1 + 2\\nx[1:2]\\nx[1]'"
      ]
     },
     "execution_count": 13,
     "metadata": {},
     "output_type": "execute_result"
    }
   ],
   "source": [
    "tainted.code"
   ]
  },
  {
   "cell_type": "code",
   "execution_count": 14,
   "metadata": {},
   "outputs": [],
   "source": [
    "script = \"\"\"def add(a, b):\n",
    "    MAX = 0x7FFFFFFF\n",
    "    MASK = 0xFFFFFFFF\n",
    "    while b:\n",
    "        a, b = (a ^ b) & MASK, ((a & b) << 1) & MASK\n",
    "    return a if a <= MAX else ~(a ^ MASK)\"\"\""
   ]
  },
  {
   "cell_type": "code",
   "execution_count": 15,
   "metadata": {},
   "outputs": [
    {
     "data": {
      "text/plain": [
       "'def add(a, b):\\n    ab = a + 1\\n    MAX = 0x7FFFFFFF\\n    MASK = 0xFFFFFFFF\\n    while b:\\n        a, b = (a ^ b) & MASK, ((a & b) << 1) & MASK\\n    return a if a <= MAX else ~(a ^ MASK)'"
      ]
     },
     "execution_count": 15,
     "metadata": {},
     "output_type": "execute_result"
    }
   ],
   "source": [
    "# print(random_bug[1])\n",
    "# print(script)\n",
    "bugger = Bugger([UseBeforeDefinitionTransformer])\n",
    "# Parse the script into a CST\n",
    "module = cst.parse_module(script)\n",
    "\n",
    "tainted = bugger.transformers[0].mutate(module)\n",
    "tainted = bugger.position_updater.transform_module(tainted)\n",
    "clean = bugger.inverse.debug(tainted,bugger.transformers[0].id)\n",
    "tainted.code"
   ]
  },
  {
   "cell_type": "code",
   "execution_count": 16,
   "metadata": {},
   "outputs": [],
   "source": [
    "# for script in code_list:\n",
    "#     random_bug = UseBeforeDefinitionTransformer # sample_bug(bug_dict)\n",
    "#     transformers=[random_bug]\n",
    "#     bugger = Bugger(transformers)\n",
    "#     # Parse the script into a CST\n",
    "#     module = cst.parse_module(script)\n",
    "#     tainted = bugger.apply(module)\n",
    "\n",
    "#     clean = bugger.apply(tainted,debug=True)"
   ]
  },
  {
   "cell_type": "code",
   "execution_count": 17,
   "metadata": {},
   "outputs": [],
   "source": [
    "# fail = 0\n",
    "# fail_bugs = 0\n",
    "# fail_inversions = 0\n",
    "# bugs = 0\n",
    "# inversions = 0\n",
    "# for script in code_list:\n",
    "#     try:\n",
    "#         random_bug = ForgettingToUpdateVariableTransformer # sample_bug(bug_dict)\n",
    "#         transformers=[random_bug]\n",
    "#         bugger = Bugger(transformers)\n",
    "#         # Parse the script into a CST\n",
    "#         module = cst.parse_module(script)\n",
    "#         tainted = bugger.apply(module)\n",
    "#         if not module.deep_equals(tainted):\n",
    "#             bugs+=1\n",
    "#             try:\n",
    "#                 clean = bugger.apply(tainted,debug=True)\n",
    "#                 # bugger.print()\n",
    "#                 if module.deep_equals(clean):\n",
    "#                     inversions+=1\n",
    "#             except:\n",
    "#                 fail_inversions +=1\n",
    "        \n",
    "#     except:\n",
    "#         fail+=1\n",
    "#         print(fail)\n",
    "        "
   ]
  },
  {
   "cell_type": "code",
   "execution_count": 18,
   "metadata": {},
   "outputs": [],
   "source": [
    "# print(\"Bug Name: {name}, fail {fail}, fail_bugs {fail_bugs}, fail_inversions {fail_inversions}, bugs {bugs}, inversions {inversions}, total {total} \".format(name= random_bug.__name__,fail=fail,fail_bugs=fail_bugs,fail_inversions=fail_inversions,bugs=bugs,inversions=inversions, total=len(code_list)))"
   ]
  },
  {
   "cell_type": "code",
   "execution_count": 19,
   "metadata": {},
   "outputs": [],
   "source": [
    "class BuggerAnalyzer:\n",
    "    def __init__(self, bug_dict):\n",
    "        self.bug_dict = bug_dict\n",
    "\n",
    "    def apply_bugs(self, cst_list):\n",
    "        results = {}\n",
    "\n",
    "        # Iterate through each type of bug and associated transformers\n",
    "        for bug_type, transformers in self.bug_dict.items():\n",
    "            results[bug_type] = {}\n",
    "            for transformer in transformers:\n",
    "                # Initialize result dictionary for the transformer\n",
    "                results[bug_type][transformer.__name__] = {\n",
    "                    \"successful_bugs\": [],\n",
    "                    \"successful_inversions\": [],\n",
    "                    \"failed_inversions\": [],\n",
    "                    \"failed_transformations\": [],\n",
    "                    \"time_to_bug\": 0\n",
    "                }\n",
    "                # Measure bug application time\n",
    "                start = perf_counter()\n",
    "                \n",
    "                # Apply bug to each module in the list\n",
    "                for idx, module in enumerate(cst_list):\n",
    "                    try:\n",
    "                        bugger = Bugger([transformer])\n",
    "                        tainted = bugger.apply(module)\n",
    "                        # Check if the bug application was successful\n",
    "                        if not module.deep_equals(tainted):\n",
    "                            results[bug_type][transformer.__name__][\"successful_bugs\"].append(idx)\n",
    "                            # Attempt to invert the transformation\n",
    "                            try:\n",
    "                                clean = bugger.apply(tainted, debug=True)\n",
    "                                # Check if the inversion was successful\n",
    "                                if module.deep_equals(clean):\n",
    "                                    results[bug_type][transformer.__name__][\"successful_inversions\"].append(idx)\n",
    "                                else:\n",
    "                                    results[bug_type][transformer.__name__][\"failed_inversions\"].append(idx)\n",
    "                            except:\n",
    "                                results[bug_type][transformer.__name__][\"failed_inversions\"].append(idx)\n",
    "                    except:\n",
    "                        results[bug_type][transformer.__name__][\"failed_transformations\"].append(idx)\n",
    "                end = perf_counter()\n",
    "                results[bug_type][transformer.__name__][\"time_to_bug\"] = end-start\n",
    "                print(f\"Time to bug for {transformer.__name__}: \", end - start)\n",
    "\n",
    "        return results\n"
   ]
  },
  {
   "cell_type": "code",
   "execution_count": 20,
   "metadata": {},
   "outputs": [
    {
     "name": "stdout",
     "output_type": "stream",
     "text": [
      "Time to bug for ForgettingToUpdateVariableTransformer:  106.06652310001664\n",
      "Time to bug for InfiniteWhileTransformer:  85.74230270000407\n",
      "Time to bug for OffByKIndexTransformer:  107.97042100003455\n",
      "Time to bug for IncorrectExceptionHandlerTransformer:  72.03556499996921\n",
      "Time to bug for MissingArgumentTransformer:  104.13743010000326\n",
      "Time to bug for ReturningEarlyTransformer:  107.5017256999854\n",
      "Time to bug for IncorrectVariableInitializationTransformer:  103.38590380002279\n",
      "Time to bug for VariableNameTypoTransformer:  107.76823859999422\n",
      "Time to bug for MutableDefaultArgumentTransformer:  134.2774347999948\n",
      "Time to bug for UseBeforeDefinitionTransformer:  117.8377967000124\n",
      "Time to bug for ComparisonTargetTransformer:  77.02554569998756\n",
      "Time to bug for ComparisonSwapTransformer:  103.71245380002074\n",
      "Time to bug for IncorrectTypeTransformer:  107.01186560001224\n",
      "Time to bug for NonExistingMethodTransformer:  84.15713040000992\n",
      "Time to bug for SwapForTransformer:  100.6445459999959\n",
      "Time to bug for NumpyArrayCreationTransformer:  71.97064479999244\n",
      "Time to bug for NumpyMethodMisuseTransformer:  72.95239120000042\n",
      "Time to bug for NumpyReshapeMisuseTransformer:  74.47058889997425\n",
      "Time to bug for NumpyArangeMisuseTransformer:  74.69448679999914\n",
      "Time to bug for NumpyAxisMisuseTransformer:  74.86524780001491\n"
     ]
    }
   ],
   "source": [
    "analyzer = BuggerAnalyzer(bug_dict=bug_dict)\n",
    "results = analyzer.apply_bugs(cst_list)\n"
   ]
  },
  {
   "cell_type": "code",
   "execution_count": 21,
   "metadata": {},
   "outputs": [],
   "source": [
    "import json\n",
    "def save_results(results, file_path):\n",
    "    with open(file_path, 'w') as file:\n",
    "        json.dump(results, file, default=lambda o: o.__dict__)\n",
    "save_results(results, 'bugger_analys_results.json')\n"
   ]
  },
  {
   "cell_type": "code",
   "execution_count": 26,
   "metadata": {},
   "outputs": [],
   "source": [
    "def print_summary_statistics(results):\n",
    "    for bug_type, transformers in results.items():\n",
    "        print(f\"\\nBug Type: {bug_type}\")\n",
    "        for transformer, stats in transformers.items():\n",
    "            print(f\"\\nTransformer: {transformer}\")\n",
    "            successful_bugs_count = len(stats[\"successful_bugs\"])\n",
    "            successful_inversions_count = len(stats[\"successful_inversions\"])\n",
    "            failed_inversions_count = len(stats[\"failed_inversions\"])\n",
    "            failed_transformations_count = len(stats[\"failed_transformations\"])\n",
    "            time_to_bug = stats[\"time_to_bug\"]\n",
    "            print(f\"Successful Bugs: {successful_bugs_count}\")\n",
    "            print(f\"Successful Inversions: {successful_inversions_count}\")\n",
    "            print(f\"Failed Inversions: {failed_inversions_count}\")\n",
    "            print(f\"Failed Transformations: {failed_transformations_count}\")\n",
    "            print(f\"Time to Bug: {time_to_bug:.2f} seconds\")\n"
   ]
  },
  {
   "cell_type": "code",
   "execution_count": 27,
   "metadata": {},
   "outputs": [
    {
     "name": "stdout",
     "output_type": "stream",
     "text": [
      "\n",
      "Bug Type: controlflow\n",
      "\n",
      "Transformer: ForgettingToUpdateVariableTransformer\n",
      "Successful Bugs: 2249\n",
      "Successful Inversions: 2233\n",
      "Failed Inversions: 16\n",
      "Failed Transformations: 0\n",
      "Time to Bug: 106.07 seconds\n",
      "\n",
      "Transformer: InfiniteWhileTransformer\n",
      "Successful Bugs: 654\n",
      "Successful Inversions: 445\n",
      "Failed Inversions: 209\n",
      "Failed Transformations: 0\n",
      "Time to Bug: 85.74 seconds\n",
      "\n",
      "Transformer: OffByKIndexTransformer\n",
      "Successful Bugs: 1626\n",
      "Successful Inversions: 1618\n",
      "Failed Inversions: 8\n",
      "Failed Transformations: 0\n",
      "Time to Bug: 107.97 seconds\n",
      "\n",
      "Transformer: IncorrectExceptionHandlerTransformer\n",
      "Successful Bugs: 2\n",
      "Successful Inversions: 2\n",
      "Failed Inversions: 0\n",
      "Failed Transformations: 0\n",
      "Time to Bug: 72.04 seconds\n",
      "\n",
      "Transformer: MissingArgumentTransformer\n",
      "Successful Bugs: 2161\n",
      "Successful Inversions: 1899\n",
      "Failed Inversions: 262\n",
      "Failed Transformations: 0\n",
      "Time to Bug: 104.14 seconds\n",
      "\n",
      "Transformer: ReturningEarlyTransformer\n",
      "Successful Bugs: 2325\n",
      "Successful Inversions: 2319\n",
      "Failed Inversions: 6\n",
      "Failed Transformations: 0\n",
      "Time to Bug: 107.50 seconds\n",
      "\n",
      "Bug Type: data\n",
      "\n",
      "Transformer: IncorrectVariableInitializationTransformer\n",
      "Successful Bugs: 1188\n",
      "Successful Inversions: 1188\n",
      "Failed Inversions: 0\n",
      "Failed Transformations: 0\n",
      "Time to Bug: 103.39 seconds\n",
      "\n",
      "Transformer: VariableNameTypoTransformer\n",
      "Successful Bugs: 2115\n",
      "Successful Inversions: 2115\n",
      "Failed Inversions: 0\n",
      "Failed Transformations: 0\n",
      "Time to Bug: 107.77 seconds\n",
      "\n",
      "Transformer: MutableDefaultArgumentTransformer\n",
      "Successful Bugs: 2346\n",
      "Successful Inversions: 1944\n",
      "Failed Inversions: 402\n",
      "Failed Transformations: 0\n",
      "Time to Bug: 134.28 seconds\n",
      "\n",
      "Transformer: UseBeforeDefinitionTransformer\n",
      "Successful Bugs: 1375\n",
      "Successful Inversions: 1123\n",
      "Failed Inversions: 252\n",
      "Failed Transformations: 1\n",
      "Time to Bug: 117.84 seconds\n",
      "\n",
      "Bug Type: logical\n",
      "\n",
      "Transformer: ComparisonTargetTransformer\n",
      "Successful Bugs: 239\n",
      "Successful Inversions: 239\n",
      "Failed Inversions: 0\n",
      "Failed Transformations: 0\n",
      "Time to Bug: 77.03 seconds\n",
      "\n",
      "Transformer: ComparisonSwapTransformer\n",
      "Successful Bugs: 1879\n",
      "Successful Inversions: 1879\n",
      "Failed Inversions: 0\n",
      "Failed Transformations: 0\n",
      "Time to Bug: 103.71 seconds\n",
      "\n",
      "Bug Type: type\n",
      "\n",
      "Transformer: IncorrectTypeTransformer\n",
      "Successful Bugs: 2200\n",
      "Successful Inversions: 1519\n",
      "Failed Inversions: 681\n",
      "Failed Transformations: 0\n",
      "Time to Bug: 107.01 seconds\n",
      "\n",
      "Transformer: NonExistingMethodTransformer\n",
      "Successful Bugs: 593\n",
      "Successful Inversions: 593\n",
      "Failed Inversions: 0\n",
      "Failed Transformations: 0\n",
      "Time to Bug: 84.16 seconds\n",
      "\n",
      "Transformer: SwapForTransformer\n",
      "Successful Bugs: 1705\n",
      "Successful Inversions: 1172\n",
      "Failed Inversions: 533\n",
      "Failed Transformations: 0\n",
      "Time to Bug: 100.64 seconds\n",
      "\n",
      "Bug Type: numpy\n",
      "\n",
      "Transformer: NumpyArrayCreationTransformer\n",
      "Successful Bugs: 0\n",
      "Successful Inversions: 0\n",
      "Failed Inversions: 0\n",
      "Failed Transformations: 0\n",
      "Time to Bug: 71.97 seconds\n",
      "\n",
      "Transformer: NumpyMethodMisuseTransformer\n",
      "Successful Bugs: 0\n",
      "Successful Inversions: 0\n",
      "Failed Inversions: 0\n",
      "Failed Transformations: 0\n",
      "Time to Bug: 72.95 seconds\n",
      "\n",
      "Transformer: NumpyReshapeMisuseTransformer\n",
      "Successful Bugs: 0\n",
      "Successful Inversions: 0\n",
      "Failed Inversions: 0\n",
      "Failed Transformations: 0\n",
      "Time to Bug: 74.47 seconds\n",
      "\n",
      "Transformer: NumpyArangeMisuseTransformer\n",
      "Successful Bugs: 0\n",
      "Successful Inversions: 0\n",
      "Failed Inversions: 0\n",
      "Failed Transformations: 0\n",
      "Time to Bug: 74.69 seconds\n",
      "\n",
      "Transformer: NumpyAxisMisuseTransformer\n",
      "Successful Bugs: 0\n",
      "Successful Inversions: 0\n",
      "Failed Inversions: 0\n",
      "Failed Transformations: 0\n",
      "Time to Bug: 74.87 seconds\n"
     ]
    }
   ],
   "source": [
    "print_summary_statistics(results)\n"
   ]
  },
  {
   "cell_type": "code",
   "execution_count": 28,
   "metadata": {},
   "outputs": [],
   "source": [
    "def successful_inversions_dict(results):\n",
    "    successful_inversions = {}\n",
    "\n",
    "    for bug_type, transformers in results.items():\n",
    "        for transformer, stats in transformers.items():\n",
    "            for idx in stats[\"successful_inversions\"]:\n",
    "                if idx not in successful_inversions:\n",
    "                    successful_inversions[idx] = set()\n",
    "                successful_inversions[idx].add(transformer)\n",
    "\n",
    "    return successful_inversions\n"
   ]
  },
  {
   "cell_type": "code",
   "execution_count": 29,
   "metadata": {},
   "outputs": [],
   "source": [
    "successful_inversions = successful_inversions_dict(results)\n"
   ]
  },
  {
   "cell_type": "code",
   "execution_count": 31,
   "metadata": {},
   "outputs": [
    {
     "name": "stdout",
     "output_type": "stream",
     "text": [
      "<class 'set'>\n",
      "Index 0:\n",
      "\tSuccessful Inversions: {'UseBeforeDefinitionTransformer', 'ReturningEarlyTransformer', 'MissingArgumentTransformer', 'ForgettingToUpdateVariableTransformer', 'MutableDefaultArgumentTransformer', 'VariableNameTypoTransformer', 'OffByKIndexTransformer', 'ComparisonSwapTransformer', 'SwapForTransformer'}\n",
      "<class 'set'>\n",
      "Index 1:\n",
      "\tSuccessful Inversions: {'ReturningEarlyTransformer', 'MissingArgumentTransformer', 'IncorrectTypeTransformer', 'IncorrectVariableInitializationTransformer', 'ForgettingToUpdateVariableTransformer', 'VariableNameTypoTransformer'}\n",
      "<class 'set'>\n",
      "Index 2:\n",
      "\tSuccessful Inversions: {'ReturningEarlyTransformer', 'MissingArgumentTransformer', 'IncorrectTypeTransformer', 'NonExistingMethodTransformer', 'IncorrectVariableInitializationTransformer', 'ForgettingToUpdateVariableTransformer', 'MutableDefaultArgumentTransformer', 'VariableNameTypoTransformer', 'OffByKIndexTransformer', 'ComparisonSwapTransformer'}\n",
      "<class 'set'>\n",
      "Index 3:\n",
      "\tSuccessful Inversions: {'UseBeforeDefinitionTransformer', 'ReturningEarlyTransformer', 'IncorrectTypeTransformer', 'ForgettingToUpdateVariableTransformer', 'MutableDefaultArgumentTransformer', 'VariableNameTypoTransformer', 'OffByKIndexTransformer', 'ComparisonSwapTransformer'}\n",
      "<class 'set'>\n",
      "Index 4:\n",
      "\tSuccessful Inversions: {'ReturningEarlyTransformer', 'MissingArgumentTransformer', 'IncorrectTypeTransformer', 'ForgettingToUpdateVariableTransformer', 'MutableDefaultArgumentTransformer', 'VariableNameTypoTransformer', 'OffByKIndexTransformer', 'ComparisonSwapTransformer'}\n",
      "<class 'set'>\n",
      "Index 5:\n",
      "\tSuccessful Inversions: {'UseBeforeDefinitionTransformer', 'ReturningEarlyTransformer', 'MissingArgumentTransformer', 'IncorrectTypeTransformer', 'IncorrectVariableInitializationTransformer', 'ForgettingToUpdateVariableTransformer', 'MutableDefaultArgumentTransformer', 'ComparisonTargetTransformer', 'VariableNameTypoTransformer', 'OffByKIndexTransformer', 'ComparisonSwapTransformer'}\n",
      "<class 'set'>\n",
      "Index 6:\n",
      "\tSuccessful Inversions: {'ReturningEarlyTransformer', 'MissingArgumentTransformer', 'IncorrectTypeTransformer', 'IncorrectVariableInitializationTransformer', 'ForgettingToUpdateVariableTransformer', 'MutableDefaultArgumentTransformer', 'VariableNameTypoTransformer', 'InfiniteWhileTransformer', 'ComparisonSwapTransformer'}\n",
      "<class 'set'>\n",
      "Index 7:\n",
      "\tSuccessful Inversions: {'ReturningEarlyTransformer', 'MissingArgumentTransformer', 'IncorrectTypeTransformer', 'ForgettingToUpdateVariableTransformer', 'MutableDefaultArgumentTransformer', 'VariableNameTypoTransformer', 'InfiniteWhileTransformer', 'OffByKIndexTransformer', 'ComparisonSwapTransformer'}\n",
      "<class 'set'>\n",
      "Index 8:\n",
      "\tSuccessful Inversions: {'ReturningEarlyTransformer', 'IncorrectTypeTransformer', 'ForgettingToUpdateVariableTransformer', 'MutableDefaultArgumentTransformer', 'VariableNameTypoTransformer', 'InfiniteWhileTransformer', 'ComparisonSwapTransformer'}\n",
      "<class 'set'>\n",
      "Index 9:\n",
      "\tSuccessful Inversions: {'UseBeforeDefinitionTransformer', 'ReturningEarlyTransformer', 'MissingArgumentTransformer', 'IncorrectVariableInitializationTransformer', 'ForgettingToUpdateVariableTransformer', 'MutableDefaultArgumentTransformer', 'VariableNameTypoTransformer', 'OffByKIndexTransformer', 'ComparisonSwapTransformer'}\n",
      "<class 'set'>\n"
     ]
    }
   ],
   "source": [
    "for idx, transformers in successful_inversions.items():\n",
    "    if idx < 10:\n",
    "        print(f\"Index {idx}:\\n\\tSuccessful Inversions: {transformers}\")\n",
    "    else:\n",
    "        break"
   ]
  },
  {
   "cell_type": "code",
   "execution_count": null,
   "metadata": {},
   "outputs": [],
   "source": []
  }
 ],
 "metadata": {
  "kernelspec": {
   "display_name": "Python 3",
   "language": "python",
   "name": "python3"
  },
  "language_info": {
   "codemirror_mode": {
    "name": "ipython",
    "version": 3
   },
   "file_extension": ".py",
   "mimetype": "text/x-python",
   "name": "python",
   "nbconvert_exporter": "python",
   "pygments_lexer": "ipython3",
   "version": "3.10.6"
  },
  "orig_nbformat": 4
 },
 "nbformat": 4,
 "nbformat_minor": 2
}
